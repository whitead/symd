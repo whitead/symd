{
 "cells": [
  {
   "cell_type": "markdown",
   "id": "e1183bb5",
   "metadata": {},
   "source": [
    "## Checking Constrained Dynamics"
   ]
  },
  {
   "cell_type": "code",
   "execution_count": null,
   "id": "70e90aa0",
   "metadata": {},
   "outputs": [],
   "source": [
    "import numpy as np\n",
    "import json\n",
    "import matplotlib.pyplot as plt\n",
    "import seaborn as sns\n",
    "import symd"
   ]
  },
  {
   "cell_type": "code",
   "execution_count": null,
   "id": "72d49377",
   "metadata": {},
   "outputs": [],
   "source": [
    "symd.prepare_input(15, 2, 8, \"wp-15\")"
   ]
  },
  {
   "cell_type": "code",
   "execution_count": null,
   "id": "7bc481bb",
   "metadata": {},
   "outputs": [],
   "source": [
    "with open(\"wp-15.json\") as f:\n",
    "    group = json.load(f)\n",
    "    projector = group[\"projector\"]\n",
    "\n",
    "with open(\"wp-15-01.json\") as f:\n",
    "    group = json.load(f)\n",
    "e = np.array(group[\"members\"][0]).reshape(3, 3)\n",
    "# e = np.array([0, 0, 0, 0., 0, 0, 0, 0, 1]).reshape(3,3)\n",
    "basis = np.array(projector).reshape(4, 4) @ np.array([50, 0, 0, 50])\n",
    "basis = basis.reshape(2, 2)\n",
    "# basis = np.eye(2)\n",
    "ib = np.linalg.inv(basis)\n",
    "print(e)\n",
    "print(ib)\n",
    "print(basis)\n",
    "print(ib @ basis)"
   ]
  },
  {
   "cell_type": "code",
   "execution_count": null,
   "id": "f0274423",
   "metadata": {},
   "outputs": [],
   "source": [
    "def project(projector, basis):\n",
    "    return np.array(projector).reshape(4, 4) @ basis.flatten()\n",
    "\n",
    "\n",
    "basis = np.array([50, 0, 0, 50])\n",
    "project(projector, basis), project(projector, project(projector, basis))"
   ]
  },
  {
   "cell_type": "code",
   "execution_count": null,
   "id": "6bddef87",
   "metadata": {},
   "outputs": [],
   "source": [
    "def scale(x, ib=ib):\n",
    "    s = ib @ x\n",
    "    return np.fmod(s, 1.0)\n",
    "\n",
    "\n",
    "def unscale(x, basis=basis):\n",
    "    return basis @ x\n",
    "\n",
    "\n",
    "x = np.array([0.5, 0.5])\n",
    "print(x)\n",
    "print(unscale(x))\n",
    "print(scale(unscale(x)))"
   ]
  },
  {
   "cell_type": "code",
   "execution_count": null,
   "id": "41ccb3c1",
   "metadata": {},
   "outputs": [],
   "source": [
    "def pa(x, e=e):\n",
    "    return (e @ (np.concatenate((x, [1])).T))[:2]\n",
    "\n",
    "\n",
    "pa(x)"
   ]
  },
  {
   "cell_type": "code",
   "execution_count": null,
   "id": "2095c3fe",
   "metadata": {},
   "outputs": [],
   "source": [
    "# compute A matrix\n",
    "N = 2\n",
    "A = np.zeros((N, N))\n",
    "ibt = ib\n",
    "grad = e[:-1, :-1] @ ibt - ibt\n",
    "print(\"grad\", grad)\n",
    "print(A)\n",
    "A = grad @ grad\n",
    "print(A)\n",
    "Ainv = np.linalg.pinv(A)\n",
    "print(Ainv)\n",
    "print(Ainv @ A)\n",
    "Ainv = Ainv @ grad\n",
    "print(Ainv)"
   ]
  },
  {
   "cell_type": "code",
   "execution_count": null,
   "id": "b3fc9f70",
   "metadata": {
    "scrolled": false
   },
   "outputs": [],
   "source": [
    "def step(x, v, f, dt, gamma=0.05, T=0.2):\n",
    "    # b\n",
    "    # v += f(x) * dt / 2\n",
    "    # a\n",
    "    x += v * dt / 2\n",
    "    # constraint 1\n",
    "    s = scale(x)\n",
    "    delta = pa(s) - s\n",
    "    print(\"delta:\", delta, \"s\", s, \"x\", x)\n",
    "    l = Ainv @ delta.T\n",
    "    print(\"lambda\", l)\n",
    "    v -= l / dt * 2\n",
    "    x -= l\n",
    "    s = scale(x)\n",
    "    delta = pa(s) - s\n",
    "    print(\"after delta:\", delta, \"s\", s, \"x\", x)\n",
    "    # o\n",
    "    c1 = np.exp(-gamma * dt)\n",
    "    c2 = np.sqrt(1 - c1**2)\n",
    "    v *= c1\n",
    "    v += c2 * np.random.normal() * np.sqrt(T)\n",
    "    # a\n",
    "    x += dt * v / 2\n",
    "    # constraint 2\n",
    "    s = scale(x)\n",
    "    delta = pa(s) - s\n",
    "    print(\"delta:\", delta, \"s\", s, \"x\", x)\n",
    "    l = Ainv @ delta.T\n",
    "    print(\"A lambda\", A @ l)\n",
    "    v -= l / dt * 2\n",
    "    x -= l\n",
    "    s = scale(x)\n",
    "    delta = pa(s) - s\n",
    "    print(\"after delta:\", delta, \"s\", s, \"x\", x)\n",
    "    # b\n",
    "    v += f(x) * dt / 2\n",
    "    return x, v\n",
    "\n",
    "\n",
    "x = np.array([0.376419008701368, 0.008526634164955138], dtype=float)\n",
    "x = unscale(x)\n",
    "f = lambda x: -2 * np.sqrt(np.sum(x**2)) * x\n",
    "v = np.array([0.5, 1], dtype=float)\n",
    "N = 5\n",
    "traj = np.empty((N, 2), dtype=float)\n",
    "vtraj = np.empty((N, 2), dtype=float)\n",
    "for i in range(N):\n",
    "    traj[i, :] = x\n",
    "    vtraj[i, :] = v\n",
    "    x, v = step(x, v, f, 0.05)\n",
    "    print(x)"
   ]
  },
  {
   "cell_type": "code",
   "execution_count": null,
   "id": "76f20c63",
   "metadata": {},
   "outputs": [],
   "source": [
    "plt.plot(traj[:, 0], traj[:, 1], \".-\")\n",
    "# for i in range(N):\n",
    "#     xi = traj[i]\n",
    "#     vi = vtraj[i]\n",
    "#     vi /= np.linalg.norm(vi) / 0.2\n",
    "#     plt.plot([xi[0], xi[0] + vi[0]], [xi[1], xi[1] + vi[1]], '-', color='C1')\n",
    "plt.gca().axis(\"equal\")"
   ]
  },
  {
   "cell_type": "code",
   "execution_count": null,
   "id": "4271f1ec",
   "metadata": {},
   "outputs": [],
   "source": [
    "traj"
   ]
  },
  {
   "cell_type": "markdown",
   "id": "ed9206e6",
   "metadata": {},
   "source": [
    "## Checking Symmetry of Proposal Distribution"
   ]
  },
  {
   "cell_type": "code",
   "execution_count": null,
   "id": "32225034",
   "metadata": {},
   "outputs": [],
   "source": [
    "sign = lambda x: bool(x > 0) - bool(x < 0)\n",
    "\n",
    "\n",
    "def levi_civta(index):\n",
    "    p = 1\n",
    "    d = len(index)\n",
    "    for i in range(d):\n",
    "        for j in range(i + 1, d):\n",
    "            p *= sign(index[j] - index[i])\n",
    "    return p\n",
    "\n",
    "\n",
    "def rvolume(b, v, i, index):\n",
    "    d = len(index)\n",
    "    if i == d:\n",
    "        return levi_civta(index) * v\n",
    "    vi = 0\n",
    "    for j in range(d):\n",
    "        index[i] = j\n",
    "        vi += rvolume(b, b[j][i] * v, i + 1, index)\n",
    "    return vi\n",
    "\n",
    "\n",
    "def volume(b):\n",
    "    index = [0] * len(b)\n",
    "    return rvolume(b, 1, 0, index)"
   ]
  },
  {
   "cell_type": "code",
   "execution_count": null,
   "id": "14f650fb",
   "metadata": {},
   "outputs": [],
   "source": [
    "def proj(ub):\n",
    "    fub = ub.flatten()\n",
    "    fb = np.array(projector).reshape(4, 4) @ fub\n",
    "    return fb.reshape(2, 2)\n",
    "\n",
    "\n",
    "vi = []\n",
    "vj = []\n",
    "for i in range(10000):\n",
    "    ub = np.array([[1, 0], [0, 1]]) + np.random.normal(size=(2, 2)) * 0.1\n",
    "    vi.append(volume(proj(ub)))\n",
    "    ub *= (1 + 0.01 - np.random.uniform(size=4) * 0.02).reshape(2, 2)\n",
    "    vj.append(volume(proj(ub)))\n",
    "vi, vj = np.array(vi), np.array(vj)"
   ]
  },
  {
   "cell_type": "code",
   "execution_count": null,
   "id": "937b84f6",
   "metadata": {},
   "outputs": [],
   "source": [
    "plt.hist(vj / vi, bins=np.linspace(0.8, 1.2, 25), alpha=0.7)\n",
    "plt.hist(vi / vj, bins=np.linspace(0.8, 1.2, 25), alpha=0.7)\n",
    "plt.show()"
   ]
  },
  {
   "cell_type": "code",
   "execution_count": null,
   "id": "ec4b95e2",
   "metadata": {},
   "outputs": [],
   "source": [
    "np.mean(vj / vi), np.mean(vi / vj)"
   ]
  },
  {
   "cell_type": "code",
   "execution_count": null,
   "id": "35c9e7b5",
   "metadata": {},
   "outputs": [],
   "source": [
    "plt.plot(vj, vi, \".\")\n",
    "plt.plot(vi, vj, \".\")"
   ]
  },
  {
   "cell_type": "markdown",
   "id": "1f3eaf4e",
   "metadata": {},
   "source": [
    "## Reflection"
   ]
  },
  {
   "cell_type": "code",
   "execution_count": null,
   "id": "505625d0",
   "metadata": {},
   "outputs": [],
   "source": [
    "def triangle_wave(x):\n",
    "    # return 2 * np.abs(np.abs(np.fmod(x + 0.5, 1.)) - 1/2)\n",
    "    return 2 * np.abs(x / 2 - np.floor(x / 2 + 1 / 2))\n",
    "    # return np.fmod(x, 1.0)\n",
    "\n",
    "\n",
    "def square_wave(x):\n",
    "    return 2 * (2 * np.floor(x / 2) - np.floor(x)) + 1\n",
    "\n",
    "\n",
    "x = np.linspace(-0.5, 1.5, 10000)\n",
    "plt.plot(x, triangle_wave(x))\n",
    "plt.plot(x, square_wave(x))\n",
    "# plt.ylim(0,1)"
   ]
  },
  {
   "cell_type": "code",
   "execution_count": null,
   "id": "d26fbe01",
   "metadata": {},
   "outputs": [],
   "source": [
    "triangle_wave(0.4)"
   ]
  },
  {
   "cell_type": "code",
   "execution_count": null,
   "id": "ed6ef5c1",
   "metadata": {},
   "outputs": [],
   "source": []
  }
 ],
 "metadata": {
  "kernelspec": {
   "display_name": "Python 3 (ipykernel)",
   "language": "python",
   "name": "python3"
  },
  "language_info": {
   "codemirror_mode": {
    "name": "ipython",
    "version": 3
   },
   "file_extension": ".py",
   "mimetype": "text/x-python",
   "name": "python",
   "nbconvert_exporter": "python",
   "pygments_lexer": "ipython3",
   "version": "3.8.12"
  }
 },
 "nbformat": 4,
 "nbformat_minor": 5
}
