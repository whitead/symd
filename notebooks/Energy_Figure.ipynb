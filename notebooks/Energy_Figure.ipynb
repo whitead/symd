{
 "cells": [
  {
   "cell_type": "code",
   "execution_count": null,
   "id": "b9b0af9a",
   "metadata": {},
   "outputs": [],
   "source": [
    "import symd\n",
    "import matplotlib.pyplot as plt\n",
    "import matplotlib as mpl\n",
    "import numpy as np\n",
    "import pickle\n",
    "import pandas as pd\n",
    "import skunk\n",
    "import svglib\n",
    "import seaborn as sns"
   ]
  },
  {
   "cell_type": "code",
   "execution_count": null,
   "id": "841ee66e",
   "metadata": {},
   "outputs": [],
   "source": [
    "base_colors = [\"f94144\",\"f3722c\",\"f8961e\",\"f9844a\",\"f9c74f\",\"90be6d\",\"43aa8b\",\"4d908e\",\"577590\",\"277da1\"]    \n",
    "colors = ['#' + c for c in base_colors]\n",
    "sns.set_style(\"white\")\n",
    "sns.set_style(\"ticks\")\n",
    "sns.set(rc={'axes.facecolor':'#f5f4e9', \n",
    "            'grid.color' : '#AAAAAA', \n",
    "            'axes.edgecolor':'#333333', \n",
    "            'figure.facecolor':'#FFFFFF', \n",
    "            'axes.grid': False,\n",
    "            'axes.prop_cycle':   plt.cycler('color', plt.cm.Dark2.colors),\n",
    "            'font.family': 'monospace'\n",
    "           })\n",
    "print(symd.__version__)"
   ]
  },
  {
   "cell_type": "code",
   "execution_count": null,
   "id": "dddf14cd",
   "metadata": {},
   "outputs": [],
   "source": [
    "def run_sim(n, number_density, group, w=None, retries=5, pos_frames=0, steps=30000):\n",
    "    for _ in range(retries):\n",
    "        try:\n",
    "            cell = symd.groups.get_cell(number_density, group, 3, n, w)\n",
    "            md = symd.Symd(nparticles=n, cell=cell, ndims=3, images=2, force='lj', wyckoffs=w,\n",
    "              group=group, steps=steps, exeDir='sim2d', start_temperature=0.5)\n",
    "            md.remove_overlap()\n",
    "            if pos_frames > 0:\n",
    "                md.log_positions(frames=pos_frames)\n",
    "            md.log_output(period = int(1 / md.runParams['time_step']))\n",
    "            md.run()\n",
    "            break\n",
    "        except RuntimeError as e:\n",
    "            print(e)\n",
    "            md = None\n",
    "    return md"
   ]
  },
  {
   "cell_type": "code",
   "execution_count": null,
   "id": "f3f59eca",
   "metadata": {},
   "outputs": [],
   "source": [
    "np.random.seed(0)\n",
    "md = run_sim(5, 0.2, 17, pos_frames=100)"
   ]
  },
  {
   "cell_type": "code",
   "execution_count": null,
   "id": "1356aeb6",
   "metadata": {},
   "outputs": [],
   "source": [
    "plt.plot(md.pe, label='potential')\n",
    "plt.plot(md.ke, label='kinetic')\n",
    "plt.plot(md.te, label='total')\n",
    "plt.legend(loc='best')"
   ]
  },
  {
   "cell_type": "markdown",
   "id": "8d470f70",
   "metadata": {},
   "source": [
    "## All Sims"
   ]
  },
  {
   "cell_type": "code",
   "execution_count": null,
   "id": "0e931daf",
   "metadata": {},
   "outputs": [],
   "source": [
    "titles = [str(i) for i in range(1,231,14)]\n",
    "df = pd.DataFrame()\n",
    "retries = 3\n",
    "def standardize(te):\n",
    "    i = int(md.te.shape[0] * 0.2)\n",
    "    te = md.te[i:]\n",
    "    return te - np.mean(te)"
   ]
  },
  {
   "cell_type": "code",
   "execution_count": null,
   "id": "3c4d4ad1",
   "metadata": {},
   "outputs": [],
   "source": [
    "for i,t in enumerate(titles):    \n",
    "    md = run_sim(4, 0.2, i+1)\n",
    "    df = df.assign(**{t: standardize(md.te)})    "
   ]
  },
  {
   "cell_type": "code",
   "execution_count": null,
   "id": "2a7774ad",
   "metadata": {},
   "outputs": [],
   "source": [
    "fig = plt.figure(figsize=(4,5.7))\n",
    "ax = plt.gca()\n",
    "mx = df.shape[0] // 2\n",
    "for i,n in enumerate(df.columns):\n",
    "    color = colors[i % len(base_colors)]\n",
    "    ax.plot(df[n] + i, color=color)\n",
    "    offsetbox = mpl.offsetbox.TextArea(n)\n",
    "    ab = mpl.offsetbox.AnnotationBbox(offsetbox, (mx,i),\n",
    "                    xybox=(mx,i),\n",
    "                    xycoords='data',\n",
    "                    boxcoords='data',\n",
    "                    arrowprops=None,\n",
    "                    bboxprops=dict(fc=\"#f5f4e9\", lw=0))\n",
    "    ax.add_artist(ab)\n",
    "ax.set_xlabel(r'Time [$\\tau$]')\n",
    "ax.set_facecolor('#f5f4e9')\n",
    "ax.set_ylabel(r'$\\Delta$ Energy [$\\epsilon$]')\n",
    "plt.savefig('energy3d.svg')"
   ]
  },
  {
   "cell_type": "markdown",
   "id": "e3b48ad8",
   "metadata": {},
   "source": [
    "## Movie"
   ]
  },
  {
   "cell_type": "code",
   "execution_count": null,
   "id": "d1630a76",
   "metadata": {},
   "outputs": [],
   "source": [
    "import moviepy.editor as editor\n",
    "from moviepy.video.io.bindings import mplfig_to_npimage\n",
    "\n",
    "def limit(traj, lim=(-5,5)):\n",
    "    out = np.copy(traj)\n",
    "    imin = out < lim[0]\n",
    "    imax = out > lim[1]\n",
    "    # set elements outside of range as nan\n",
    "    out[imin] = np.nan\n",
    "    out[imax] = np.nan\n",
    "    # set particles with one nan element as all nan\n",
    "    inan = np.any(np.isnan(out), axis=-1)\n",
    "    out[inan, :] = np.nan\n",
    "    return out\n",
    "\n",
    "def plot_traj(traj, P, M, cell, title, color='#333333', fps=60):\n",
    "    # set-up two subplots (cell and whole system)\n",
    "    T, N, D = traj.shape        \n",
    "    fps = fps\n",
    "    duration = T / fps\n",
    "    dpi = 90\n",
    "    fig = plt.figure(figsize=(1200 / dpi, 800 / dpi), dpi=dpi)\n",
    "    # make some colors for cell\n",
    "    tc = [np.random.choice(colors) for _ in range(P)] * (M // P)\n",
    "    # limit trajectory  to be within a cube\n",
    "    cell_limits = (min(cell), max(cell))\n",
    "    traj_limits = [2 * l for l in limits]\n",
    "    traj2 = limit(traj, traj_limits)\n",
    "    \n",
    "    ax1 = fig.add_subplot(1, 2, 2, projection='3d')    \n",
    "    ax2 = fig.add_subplot(1, 2, 1, projection='3d')\n",
    "    \n",
    "    ax1.set_xlim(*cell_limits)\n",
    "    ax1.set_ylim(*cell_limits)\n",
    "    ax1.set_zlim(*cell_limits)\n",
    "    ax2.set_xlim(*traj_limits)\n",
    "    ax2.set_ylim(*traj_limits)\n",
    "    ax2.set_zlim(*traj_limits)    \n",
    "    # plot cell\n",
    "    scale1 = 400 / (max(cell_limits) - min(cell_limits))\n",
    "    scale2 = 120 / (max(traj_limits) - min(traj_limits))\n",
    "    points1 = [ax1.scatter(traj[0,:M,0], traj[0,:M,1], traj[0,:M,2], \n",
    "                          color=tc,\n",
    "                          marker='o', s=scale1**2, linewidths=2, edgecolors='#999')]\n",
    "    points2 = ax2.plot(traj2[0,:,0], traj2[0,:,1], traj2[0,:,2], c=color, mec='#999', marker='o',                        \n",
    "                        linestyle='None', markersize=scale2)[0]\n",
    "    ax2.set_facecolor('#f5f4e9')\n",
    "    ax1.set_facecolor('#f5f4e9')\n",
    "    fig.patch.set_facecolor('#f5f4e9')\n",
    "    ax1.set_title('Unit Cell', fontsize=32, color='#333333',fontname='monospace')\n",
    "    ax2.set_title(title, fontsize=32, color='#333333',fontname='monospace')\n",
    "    ax1.axis('off')\n",
    "    ax2.axis('off')\n",
    "    angle = 60\n",
    "    plt.tight_layout()\n",
    "    def make_frame(t):\n",
    "        i = int(t  * fps)\n",
    "        i = max(0, min(i, T-1))\n",
    "        points1[0].remove()\n",
    "        points1[0] = ax1.scatter(traj[i,:M,0], traj[i,:M,1], traj[i,:M,2], \n",
    "                          color=tc,\n",
    "                          marker='o', s=scale1**2, linewidths=1, edgecolors='#999')\n",
    "        points2.set_data_3d(traj2[i,:,0], traj2[i,:,1], traj2[i,:,2])    \n",
    "        #ax1.view_init(30, (angle + t * 3) % 360)\n",
    "        #ax2.view_init(30, (angle + t * 3) % 360)\n",
    "        plt.draw()\n",
    "        return mplfig_to_npimage(fig)\n",
    "\n",
    "    return editor.VideoClip(make_frame, duration=duration)\n",
    "def write_video(clips, output, fps=60, transition=0.25):\n",
    "    composite = editor.concatenate(clips[:1] + [c.crossfadein(transition) for c in clips[1:]], \n",
    "                                   padding=-transition, method='compose')   \n",
    "    composite.write_videofile(output, fps=fps, preset='slower', ffmpeg_params=['-tune', 'animation'])\n",
    "    \n",
    "def run_nvesim(n, number_density, group, w=None, retries=5, pos_frames=0, steps=30000):\n",
    "    for _ in range(retries):\n",
    "        try:\n",
    "            cell = symd.groups.get_cell(number_density, group, 3, n, w)\n",
    "            md = symd.Symd(nparticles=n, cell=cell, ndims=3, images=2, force='lj', wyckoffs=w,\n",
    "              group=group, steps=steps, exeDir='sim3d', start_temperature=0.2, temperature=None, pressure=None)\n",
    "            md.remove_overlap()\n",
    "            md.shrink()\n",
    "            if pos_frames > 0:\n",
    "                md.log_positions(frames=pos_frames)\n",
    "            md.run()\n",
    "            break\n",
    "        except RuntimeError as e:\n",
    "            print(e)\n",
    "            md = None\n",
    "    return md"
   ]
  },
  {
   "cell_type": "code",
   "execution_count": null,
   "id": "bbf3afa3",
   "metadata": {},
   "outputs": [],
   "source": [
    "gnum = 30\n",
    "md = run_nvesim(5, 0.05, gnum, pos_frames=3 * 500, steps=3 * 2500)"
   ]
  },
  {
   "cell_type": "code",
   "execution_count": null,
   "id": "5dd7abc7",
   "metadata": {
    "scrolled": true
   },
   "outputs": [],
   "source": [
    "c = plot_traj(md.positions, md.nparticles, md.cell_nparticles, md.read_cell(), title=f'Hall Group {gnum}')\n",
    "write_video([c], '3d.mp4')"
   ]
  },
  {
   "cell_type": "code",
   "execution_count": null,
   "id": "d12740a7",
   "metadata": {},
   "outputs": [],
   "source": []
  }
 ],
 "metadata": {
  "kernelspec": {
   "display_name": "Python 3 (ipykernel)",
   "language": "python",
   "name": "python3"
  },
  "language_info": {
   "codemirror_mode": {
    "name": "ipython",
    "version": 3
   },
   "file_extension": ".py",
   "mimetype": "text/x-python",
   "name": "python",
   "nbconvert_exporter": "python",
   "pygments_lexer": "ipython3",
   "version": "3.8.12"
  }
 },
 "nbformat": 4,
 "nbformat_minor": 5
}
