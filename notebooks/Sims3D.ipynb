{
 "cells": [
  {
   "cell_type": "code",
   "execution_count": null,
   "id": "b9b0af9a",
   "metadata": {},
   "outputs": [],
   "source": [
    "import symd\n",
    "import matplotlib.pyplot as plt\n",
    "import matplotlib as mpl\n",
    "import numpy as np\n",
    "import pickle\n",
    "import pandas as pd\n",
    "import skunk\n",
    "import svglib\n",
    "import seaborn as sns"
   ]
  },
  {
   "cell_type": "code",
   "execution_count": null,
   "id": "841ee66e",
   "metadata": {},
   "outputs": [],
   "source": [
    "base_colors = [\"f94144\",\"f3722c\",\"f8961e\",\"f9844a\",\"f9c74f\",\"90be6d\",\"43aa8b\",\"4d908e\",\"577590\",\"277da1\"]    \n",
    "colors = ['#' + c for c in base_colors]\n",
    "sns.set_style(\"white\")\n",
    "sns.set_style(\"ticks\")\n",
    "sns.set(rc={'axes.facecolor':'#f5f4e9', \n",
    "            'grid.color' : '#AAAAAA', \n",
    "            'axes.edgecolor':'#333333', \n",
    "            'figure.facecolor':'#FFFFFF', \n",
    "            'axes.grid': False,\n",
    "            'axes.prop_cycle':   plt.cycler('color', plt.cm.Dark2.colors),\n",
    "            'font.family': 'monospace'\n",
    "           })\n",
    "print(symd.__version__)"
   ]
  },
  {
   "cell_type": "code",
   "execution_count": null,
   "id": "dddf14cd",
   "metadata": {},
   "outputs": [],
   "source": [
    "def run_sim(n, cell, group, w=None, retries=5, pos_frames=0):\n",
    "    for _ in range(retries):\n",
    "        try:\n",
    "            md = symd.Symd(nparticles=n, cell=cell, ndims=3, images=2, force='lj', wyckoffs=w,\n",
    "              group=group, steps=30000, exeDir='sim', start_temperature=0.5)\n",
    "            md.remove_overlap()\n",
    "            md.shrink()\n",
    "            if pos_frames > 0:\n",
    "                md.log_positions(frames=pos_frames)\n",
    "            md.log_output(period = int(1 / md.runParams['time_step']))\n",
    "            md.run()\n",
    "            break\n",
    "        except RuntimeError as e:\n",
    "            print(e)\n",
    "            md = None\n",
    "    return md"
   ]
  },
  {
   "cell_type": "code",
   "execution_count": null,
   "id": "f3f59eca",
   "metadata": {},
   "outputs": [],
   "source": [
    "np.random.seed(0)\n",
    "md = run_sim(5, [8, 8, 8], 17, pos_frames=100)"
   ]
  },
  {
   "cell_type": "code",
   "execution_count": null,
   "id": "1356aeb6",
   "metadata": {},
   "outputs": [],
   "source": [
    "plt.plot(md.pe, label='potential')\n",
    "plt.plot(md.ke, label='kinetic')\n",
    "plt.plot(md.te, label='total')\n",
    "plt.legend(loc='best')"
   ]
  },
  {
   "cell_type": "markdown",
   "id": "8d470f70",
   "metadata": {},
   "source": [
    "## All Sims"
   ]
  },
  {
   "cell_type": "code",
   "execution_count": null,
   "id": "0e931daf",
   "metadata": {},
   "outputs": [],
   "source": [
    "titles = [str(i) for i in range(1,231,14)]\n",
    "df = pd.DataFrame()\n",
    "retries = 3\n",
    "def smooth(x):\n",
    "    window = int(np.ceil(len(x) / 10.0))\n",
    "    weights = np.ones(window)\n",
    "    energy_smooth = np.convolve(\n",
    "        weights / weights.sum(), x[(window + 1):], mode=\"valid\"\n",
    "    )\n",
    "    return x\n",
    "\n",
    "def standardize(te):\n",
    "    i = int(md.te.shape[0] * 0.2)\n",
    "    te = md.te[i:]\n",
    "    return te - np.mean(te)"
   ]
  },
  {
   "cell_type": "code",
   "execution_count": null,
   "id": "3c4d4ad1",
   "metadata": {},
   "outputs": [],
   "source": [
    "for i,t in enumerate(titles):    \n",
    "    md = run_sim(5, [8, 8, 8], i+1)\n",
    "    df = df.assign(**{t: standardize(md.te)})    "
   ]
  },
  {
   "cell_type": "code",
   "execution_count": null,
   "id": "2a7774ad",
   "metadata": {},
   "outputs": [],
   "source": [
    "fig = plt.figure(figsize=(4,5.7))\n",
    "ax = plt.gca()\n",
    "mx = df.shape[0] // 2\n",
    "for i,n in enumerate(df.columns):\n",
    "    color = colors[i % len(base_colors)]\n",
    "    ax.plot(df[n] + i, color=color)\n",
    "    offsetbox = mpl.offsetbox.TextArea(n)\n",
    "    #mx = (df.shape[0] - 1) * (i / df.shape[1])\n",
    "    #if i % 2 == 0:\n",
    "    #    mx = df.shape[0] - mx - 1\n",
    "    ab = mpl.offsetbox.AnnotationBbox(offsetbox, (mx,i),\n",
    "                    xybox=(mx,i),\n",
    "                    xycoords='data',\n",
    "                    boxcoords='data',\n",
    "                    arrowprops=None,\n",
    "                    bboxprops=dict(fc=\"#f5f4e9\", lw=0))\n",
    "    ax.add_artist(ab)\n",
    "ax.set_xlabel(r'Time [$\\tau$]')\n",
    "ax.set_facecolor('#f5f4e9')\n",
    "ax.set_ylabel(r'$\\Delta$ Energy [$\\epsilon$]')\n",
    "plt.savefig('energy3d.svg')"
   ]
  },
  {
   "cell_type": "markdown",
   "id": "8c4596cc",
   "metadata": {},
   "source": [
    "## Atlas"
   ]
  },
  {
   "cell_type": "code",
   "execution_count": null,
   "id": "7d3ad05b",
   "metadata": {},
   "outputs": [],
   "source": [
    "def rmsd(p1, p2):\n",
    "    return np.mean((p1 - p2)**2, axis=(1,2))"
   ]
  },
  {
   "cell_type": "code",
   "execution_count": null,
   "id": "39434d6a",
   "metadata": {},
   "outputs": [],
   "source": [
    "def crystal(n, cell, group, w=None, retries=2, steps=10**6, ndims=3):\n",
    "    # adjust for group size\n",
    "    groupd = symd.groups.load_group(group, ndims)\n",
    "    m = len(groupd['genpos'])\n",
    "    n = max(2, n // m)\n",
    "    total = n * m\n",
    "    if w is not None:        \n",
    "        n += sum(w)\n",
    "        for l in range(len(w)):\n",
    "            total += w[l] * groupd['specpos'][l]['size']\n",
    "        name = f'{group}-{n}-{sum(w)}'\n",
    "    else:\n",
    "        name = f'{group}-{n}'\n",
    "    print('Simulating', n, 'particles:',name, 'cell will have', total)    \n",
    "    # break out the try/except because we will accept failed NPT (because it jams so hard)\n",
    "    for i in range(retries):\n",
    "        # NPT\n",
    "        md = symd.Symd(nparticles=n, cell=cell, ndims=ndims, images=2, force='lj', wyckoffs=w,\n",
    "          group=group, steps=steps, exeDir=f'crystal-{name}', pressure=0.5, temperature=0.1, start_temperature=0.2)\n",
    "        try:        \n",
    "            md.remove_overlap()\n",
    "            md.shrink()\n",
    "        except RuntimeError as e:\n",
    "            continue\n",
    "        md.log_positions()\n",
    "        try:\n",
    "            md.run()\n",
    "        except RuntimeError as e:\n",
    "            pass\n",
    "\n",
    "        # NVT\n",
    "        md.runParams['temperature'] = 0.05\n",
    "        md.runParams['Pressure'] = None\n",
    "        md.runParams['box_update_period'] = 0\n",
    "        md.runParams['steps'] = steps // 10\n",
    "        md.log_positions(filename='equil.xyz')\n",
    "        try:\n",
    "            md.run()\n",
    "        except RuntimeError as e:\n",
    "            continue\n",
    "        config = md.positions[-1]\n",
    "\n",
    "        # Stability\n",
    "        fp = np.loadtxt(md.runParams['final_positions'])\n",
    "        # changing group, so need to read normed cell\n",
    "        cell = md.read_cell(normed=True)\n",
    "        m = fp.shape[0]\n",
    "        md2 = symd.Symd(nparticles=m, cell=cell, ndims=ndims, images=2, force='lj', wyckoffs=None,\n",
    "          group=1, steps=5000, exeDir=f'melt-{name}', temperature=None, start_temperature=0)\n",
    "        # run once to get melting traj\n",
    "        # then again for longer with longer period\n",
    "        md2.log_positions(period=5)\n",
    "        md2.runParams['start_positions'] = md.runParams['final_positions']            \n",
    "        try:\n",
    "            md2.run()\n",
    "        except RuntimeError as e:\n",
    "            continue\n",
    "        traj = md2.positions\n",
    "        md2.runParams['steps'] = steps // 10\n",
    "        md2.log_positions(period=int(1 / md2.runParams['time_step']))\n",
    "        #md2.run()\n",
    "        csm = rmsd(md2.positions[:,:m], md2.positions[0,:m])\n",
    "        #csm = []\n",
    "        #for i in range(md2.positions.shape[0]):\n",
    "        #    csm.append(compute_symm(md2.positions[i], group, md2.read_cell(), ndims, n))\n",
    "        return config, md2.positions[-1], csm, traj, np.arange(0,5000,5) * md2.runParams['time_step']\n",
    "    return None"
   ]
  },
  {
   "cell_type": "code",
   "execution_count": null,
   "id": "671c4ddc",
   "metadata": {},
   "outputs": [],
   "source": [
    "def plot_config(pos, figsize=(5,5), color='#333333'):\n",
    "    N, D = pos.shape    \n",
    "    fig = plt.figure(figsize=figsize)\n",
    "    ax = fig.add_subplot(projection='3d')        \n",
    "    \n",
    "    points = ax.plot(pos[:,0], pos[:,1], pos[:,2], color=color, marker='o', linestyle='None', mec='#999')\n",
    "    ax.set_facecolor('#f5f4e9')\n",
    "    fig.patch.set_facecolor('#f5f4e9')\n",
    "    ax.axis('off')    \n",
    "    \n",
    "    plt.tight_layout()\n",
    "    #return skunk.pltsvg(fig=fig)\n",
    "    return points"
   ]
  },
  {
   "cell_type": "code",
   "execution_count": null,
   "id": "a3743ed4",
   "metadata": {},
   "outputs": [],
   "source": [
    "config, config2, csm, traj, time = crystal(96, [25, 25, 25], 180, w=[1] * 4)"
   ]
  },
  {
   "cell_type": "code",
   "execution_count": null,
   "id": "57595120",
   "metadata": {},
   "outputs": [],
   "source": [
    "p = plot_config(traj[0])"
   ]
  },
  {
   "cell_type": "code",
   "execution_count": null,
   "id": "4e87225a",
   "metadata": {
    "scrolled": false
   },
   "outputs": [],
   "source": [
    "plt.figure(figsize=(8, 8))\n",
    "plt.plot(config[:,0], config[:,1], '.')\n",
    "plt.plot(config2[:,0], config2[:,1], '.')"
   ]
  },
  {
   "cell_type": "code",
   "execution_count": null,
   "id": "8f3eb4a4",
   "metadata": {
    "scrolled": true
   },
   "outputs": [],
   "source": [
    "plt.plot(time, csm)"
   ]
  },
  {
   "cell_type": "code",
   "execution_count": null,
   "id": "3354435f",
   "metadata": {},
   "outputs": [],
   "source": [
    "are you sure you want to run this?\n",
    "\n",
    "from multiprocessing import Pool\n",
    "\n",
    "cdf = None\n",
    "results = []\n",
    "trajs = {}\n",
    "\n",
    "with Pool(8) as pool:\n",
    "    for N in [8,16,32,128]:\n",
    "        cell = [25, 25]\n",
    "        if N == 128:\n",
    "            cell = [35, 35]\n",
    "        for i,t in enumerate(titles):\n",
    "            W = len(symd.groups.load_group(i+1, 2)['specpos'])    \n",
    "            for j in range(1 + W):\n",
    "                wycks = None if j == 0 else [1] * j\n",
    "                name = f'{t}-w{j}-n{N}'\n",
    "                job = pool.apply_async(crystal, (N, cell, i+1, wycks))\n",
    "                #job = crystal(N, [25, 25], i+1, wycks)\n",
    "                results.append((t, name, N, j, job))\n",
    "                \n",
    "    for r in results:        \n",
    "        t, name, N, j, ar = r\n",
    "        print('Getting result for ', name)\n",
    "        res = ar.get()\n",
    "        #res = ar\n",
    "        if res is None:\n",
    "            continue\n",
    "        config, config2, csm, traj, time = res\n",
    "        T = len(csm)\n",
    "        \n",
    "        df2 = pd.DataFrame({'Group':[t] * T, 'Traj': [name] * T, \n",
    "                            'N':[N] * T, 'Wyckoffs':[str(j)] * T, 'RMSD':csm, 'Time':time})\n",
    "        if cdf is None:\n",
    "            cdf = df2\n",
    "        else:\n",
    "            cdf = pd.concat((cdf, df2))\n",
    "        trajs[name] = traj\n",
    "        \n",
    "cdf.reset_index(inplace=True)\n",
    "cdf.to_pickle('atlas2d.pkl.gz')\n",
    "with open('atlas2d.traj.pkl', 'wb') as f:\n",
    "    pickle.dump(trajs, f, pickle.HIGHEST_PROTOCOL)"
   ]
  },
  {
   "cell_type": "code",
   "execution_count": null,
   "id": "7134439c",
   "metadata": {},
   "outputs": [],
   "source": [
    "cdf = pd.read_pickle('atlas2d.pkl.gz')\n",
    "with open('atlas2d.traj.pkl', 'rb') as f:\n",
    "    trajs = pickle.load(f)"
   ]
  },
  {
   "cell_type": "code",
   "execution_count": null,
   "id": "e0e01db8",
   "metadata": {
    "scrolled": false
   },
   "outputs": [],
   "source": [
    "replaces = []\n",
    "def annotate_config(rmsd, traj, time, wyckoffs, color):\n",
    "    late_rmsd = rmsd.where(time > 15)\n",
    "    idx = late_rmsd.argmin()\n",
    "    label = traj.iloc[idx]\n",
    "    w = wyckoffs.iloc[idx]\n",
    "    replaces.append((label, f'C{w}'))\n",
    "    x = time.iloc[idx]\n",
    "    y = rmsd.iloc[idx]\n",
    "    ax = plt.gca()\n",
    "    box = skunk.Box(25, 25, label)    \n",
    "    ab = mpl.offsetbox.AnnotationBbox(box, (x, y),\n",
    "                        pad=0,\n",
    "                        bboxprops=dict(edgecolor='#333', linewidth=1),\n",
    "                        xybox=(0.2, 0.7),\n",
    "                        xycoords='data',\n",
    "                        boxcoords='axes fraction',\n",
    "                        arrowprops=dict(arrowstyle=\"->\",color='#333'))\n",
    "\n",
    "    ax.add_artist(ab)\n",
    "\n",
    "g = sns.relplot(data=cdf, x='Time', y='RMSD', \n",
    "        kind='line', hue='Wyckoffs', col='Group', col_wrap=6,\n",
    "        aspect=1, linewidth=1, style='N', height=1.75, palette='Dark2',\n",
    "               hue_order=[str(i) for i in range(9)])\n",
    "plt.ylim(0,1)\n",
    "sns.move_legend(g, \"lower right\", bbox_to_anchor=(0.9,0.1), ncol=3)\n",
    "g.map(annotate_config, 'RMSD', 'Traj', 'Time', 'Wyckoffs').set_axis_labels(\"Time\", \"RMSD\")\n",
    "\n",
    "\n",
    "main_svg = skunk.pltsvg()\n",
    "svg = skunk.insert({l: plot_config(trajs[l][0], color=c) for l,c in replaces}, svg=main_svg)\n",
    "skunk.display(svg)\n",
    "with open('atlas.svg', 'w') as f:\n",
    "    f.write(svg)"
   ]
  },
  {
   "cell_type": "markdown",
   "id": "995e6f3f",
   "metadata": {},
   "source": [
    "## Movie"
   ]
  },
  {
   "cell_type": "code",
   "execution_count": null,
   "id": "86e4eafb",
   "metadata": {},
   "outputs": [],
   "source": [
    "# make a movie\n",
    "import moviepy.editor as editor\n",
    "from moviepy.video.io.bindings import mplfig_to_npimage\n",
    "\n",
    "def plot_traj(traj, M, title='@_172135352171_', color='#333333', fps=60):\n",
    "    T, N, D = traj.shape        \n",
    "    fps = fps\n",
    "    duration = T / fps + 1\n",
    "    dpi = 90\n",
    "    fig = plt.figure(figsize=(1200 / dpi, 800 / dpi), dpi=dpi)\n",
    "    ax1 = fig.add_subplot(1, 2, 1, projection='3d')\n",
    "    tc = [np.random.choice(colors) for _ in range(N)]\n",
    "    points1 = [ax1.scatter(traj[0,:,0], traj[0,:,1], traj[0,:,2], \n",
    "                          color=tc,\n",
    "                          marker='o')]\n",
    "    ax2 = fig.add_subplot(1, 2, 2, projection='3d')\n",
    "    points2 = ax2.plot(traj[0,:M,0], traj[0,:M,1], traj[0,:M,2], c=color, mec='#999', marker='o',                        \n",
    "                        linestyle='None', markersize=18)[0]\n",
    "    ax2.set_facecolor('#f5f4e9')\n",
    "    ax1.set_facecolor('#f5f4e9')\n",
    "    fig.patch.set_facecolor('#f5f4e9')\n",
    "    title = ax.set_title(title, fontsize=32, color='#333333',fontname='monospace')\n",
    "    ax1.axis('off')\n",
    "    ax2.axis('off')\n",
    "    angle = 60\n",
    "    plt.tight_layout()\n",
    "    def make_frame(t):\n",
    "        i = int((t - 1)  * fps)\n",
    "        i = max(0, min(i, T-1))\n",
    "        points1[0].remove()\n",
    "        points1[0] = ax1.scatter(traj[i,:,0], traj[i,:,1], traj[i,:,2], \n",
    "                          color=tc,\n",
    "                          marker='o')\n",
    "        points2.set_data_3d(traj[i,:M,0], traj[i,:M,1], traj[i,:M,2])    \n",
    "        ax1.view_init(30, (angle + t * 3) % 360)\n",
    "        ax2.view_init(30, (angle + t * 3) % 360)\n",
    "        plt.draw()\n",
    "        return mplfig_to_npimage(fig)\n",
    "\n",
    "    return editor.VideoClip(make_frame, duration=duration)\n",
    "def write_video(clips, output, fps=60, transition=0.25):\n",
    "    composite = editor.concatenate(clips[:1] + [c.crossfadein(transition) for c in clips[1:]], \n",
    "                                   padding=-transition, method='compose')   \n",
    "    composite.write_videofile(output, fps=fps, preset='slower', ffmpeg_params=['-tune', 'animation'])"
   ]
  },
  {
   "cell_type": "code",
   "execution_count": null,
   "id": "b10f710b",
   "metadata": {},
   "outputs": [],
   "source": [
    "c = plot_traj(traj, 120, title=t)\n",
    "write_video([c], '3d.mp4')"
   ]
  },
  {
   "cell_type": "code",
   "execution_count": null,
   "id": "e6e1b6bb",
   "metadata": {},
   "outputs": [],
   "source": [
    "k = 25\n",
    "top = cdf[cdf.Time == cdf.Time.max()].sort_values(by=['RMSD']).Traj.values[:k]\n",
    "\n",
    "clips = []\n",
    "for t in top:\n",
    "    c = plot_traj(trajs[t][:60 * 3], title=t)\n",
    "    clips.append(c)\n",
    "write_video(clips, 'top.mp4')"
   ]
  },
  {
   "cell_type": "code",
   "execution_count": null,
   "id": "05128bc0",
   "metadata": {},
   "outputs": [],
   "source": [
    "k = 25\n",
    "top = cdf[cdf.Time == cdf.Time.max()].sort_values(by=['RMSD']).Traj.values[-k:]\n",
    "\n",
    "clips = []\n",
    "for t in top:\n",
    "    c = plot(trajs[t][:60 * 3], title=t)\n",
    "    clips.append(c)\n",
    "write_video(clips, 'bottom.mp4')"
   ]
  }
 ],
 "metadata": {
  "kernelspec": {
   "display_name": "Python 3 (ipykernel)",
   "language": "python",
   "name": "python3"
  },
  "language_info": {
   "codemirror_mode": {
    "name": "ipython",
    "version": 3
   },
   "file_extension": ".py",
   "mimetype": "text/x-python",
   "name": "python",
   "nbconvert_exporter": "python",
   "pygments_lexer": "ipython3",
   "version": "3.8.12"
  }
 },
 "nbformat": 4,
 "nbformat_minor": 5
}
