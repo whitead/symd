{
 "cells": [
  {
   "cell_type": "code",
   "execution_count": null,
   "id": "14c70f9c",
   "metadata": {
    "scrolled": true
   },
   "outputs": [],
   "source": [
    "!pip install seaborn pandas matplotlib skunk svglib"
   ]
  },
  {
   "cell_type": "code",
   "execution_count": null,
   "id": "ff87f25d",
   "metadata": {},
   "outputs": [],
   "source": [
    "import symd\n",
    "import matplotlib.pyplot as plt\n",
    "import matplotlib as mpl\n",
    "import numpy as np\n",
    "import pickle\n",
    "import pandas as pd\n",
    "import skunk\n",
    "import svglib\n",
    "import seaborn as sns"
   ]
  },
  {
   "cell_type": "code",
   "execution_count": null,
   "id": "df092f3b",
   "metadata": {},
   "outputs": [],
   "source": [
    "base_colors = [\n",
    "    \"f94144\",\n",
    "    \"f3722c\",\n",
    "    \"f8961e\",\n",
    "    \"f9844a\",\n",
    "    \"f9c74f\",\n",
    "    \"90be6d\",\n",
    "    \"43aa8b\",\n",
    "    \"4d908e\",\n",
    "    \"577590\",\n",
    "    \"277da1\",\n",
    "]\n",
    "colors = [\"#\" + c for c in base_colors]\n",
    "sns.set_style(\"white\")\n",
    "sns.set_style(\"ticks\")\n",
    "sns.set(\n",
    "    rc={\n",
    "        \"axes.facecolor\": \"#f5f4e9\",\n",
    "        \"grid.color\": \"#AAAAAA\",\n",
    "        \"axes.edgecolor\": \"#333333\",\n",
    "        \"figure.facecolor\": \"#FFFFFF\",\n",
    "        \"axes.grid\": False,\n",
    "        \"axes.prop_cycle\": plt.cycler(\"color\", plt.cm.Dark2.colors),\n",
    "        \"font.family\": \"monospace\",\n",
    "    }\n",
    ")\n",
    "my_cmap = \"rainbow\"\n",
    "print(symd.__version__)"
   ]
  },
  {
   "cell_type": "code",
   "execution_count": null,
   "id": "88079fa5",
   "metadata": {},
   "outputs": [],
   "source": [
    "print(\"0\\u2264x\\u22641/2;0\\u2264y\\u22641\")"
   ]
  },
  {
   "cell_type": "code",
   "execution_count": null,
   "id": "4bdbb677",
   "metadata": {},
   "outputs": [],
   "source": [
    "rot = 7\n",
    "genpos = []\n",
    "for ri in range(rot):\n",
    "    c = np.round(np.cos(ri * np.pi * 2 / rot), 4)\n",
    "    s = np.round(np.sin(ri * np.pi * 2 / rot), 4)\n",
    "    if ri == 1:\n",
    "        # asymm = f'0≤x≤{c};0≤y≤{s}'\n",
    "        asymm = f\"1/2≤x≤1.0;1/2≤y≤1.0\"\n",
    "    genpos.append(\n",
    "        f\"{c}x {-s:+}y {-0.5 * c + 0.5 * s + 0.5:+},{s}x {c:+}y {-0.5 * s - 0.5 * c + 0.5:+}\"\n",
    "    )\n",
    "specpos = [{\"name\": \"a\", \"size\": 1, \"sites\": [\"1/2, 1/2\"]}]\n",
    "\n",
    "my_group = {\n",
    "    \"lattice\": \"Oblique\",\n",
    "    \"genpos\": genpos,\n",
    "    \"asymm_unit\": asymm,\n",
    "    \"specpos\": specpos,\n",
    "}\n",
    "print(my_group)"
   ]
  },
  {
   "cell_type": "code",
   "execution_count": null,
   "id": "fab73842",
   "metadata": {},
   "outputs": [],
   "source": [
    "def run_sim(\n",
    "    n, number_density, group, images, w=None, retries=50, pos_frames=0, steps=10**6\n",
    "):\n",
    "    for i in range(retries):\n",
    "        try:\n",
    "            np.random.seed(i)\n",
    "            cell = symd.groups.get_cell(number_density, group, 2, n, w)\n",
    "            md = symd.Symd(\n",
    "                nparticles=n,\n",
    "                cell=cell,\n",
    "                ndims=2,\n",
    "                images=images,\n",
    "                force=\"lj\",\n",
    "                wyckoffs=w,\n",
    "                group=group,\n",
    "                steps=steps,\n",
    "                exeDir=\"quasi\",\n",
    "                start_temperature=0.5,\n",
    "                temperature=0.1,\n",
    "                pressure=0.25,\n",
    "            )\n",
    "            md.remove_overlap()\n",
    "            md.runParams[\"box_update_period\"] = 10\n",
    "            md.runParams[\"langevin_gamma\"] = 0.5\n",
    "            md.log_positions(frames=pos_frames)\n",
    "            try:\n",
    "                md.run()\n",
    "            except RuntimeError as e:\n",
    "                d = md.number_density()\n",
    "                if d < 0.6:\n",
    "                    print(\"Not dense enough, retrying\", d)\n",
    "                    continue\n",
    "\n",
    "            # Basically E-min\n",
    "            md.runParams[\"start_temperature\"] = 0.1\n",
    "            md.runParams[\"temperature\"] = 1e-2\n",
    "            md.runParams[\"langevin_gamma\"] = 0.5\n",
    "            md.runParams[\"Pressure\"] = None\n",
    "            md.runParams[\"box_update_period\"] = 0\n",
    "            md.runParams[\"steps\"] = steps // 10\n",
    "            if pos_frames > 0:\n",
    "                md.log_positions(filename=\"equil.xyz\", frames=pos_frames // 10)\n",
    "            try:\n",
    "                md.run()\n",
    "            except RuntimeError as e:\n",
    "                continue\n",
    "            config = md.positions[-1]\n",
    "            break\n",
    "        except RuntimeError as e:\n",
    "            print(e)\n",
    "            md = None\n",
    "    return md"
   ]
  },
  {
   "cell_type": "code",
   "execution_count": null,
   "id": "5b330a5f",
   "metadata": {},
   "outputs": [],
   "source": [
    "md = run_sim(256, 0.1, my_group, [0, 0], pos_frames=1000, w=[1])"
   ]
  },
  {
   "cell_type": "code",
   "execution_count": null,
   "id": "c7d84856",
   "metadata": {},
   "outputs": [],
   "source": [
    "plt.plot(md.positions[-1, :, 0], md.positions[-1, :, 1], \".\")"
   ]
  },
  {
   "cell_type": "code",
   "execution_count": null,
   "id": "88ee07a5",
   "metadata": {
    "scrolled": false
   },
   "outputs": [],
   "source": [
    "# make a movie\n",
    "import moviepy.editor as editor\n",
    "from moviepy.video.io.bindings import mplfig_to_npimage\n",
    "\n",
    "\n",
    "def plot_traj(\n",
    "    traj, title=\"@_172135352171_\", color=\"#333333\", fps=60, M=0, cmap=my_cmap\n",
    "):\n",
    "    T, N, D = traj.shape\n",
    "    fps = fps\n",
    "    duration = T / fps + 2\n",
    "    dpi = 90\n",
    "    fig, ax = plt.subplots(figsize=(1200 / dpi, 1080 / dpi), dpi=dpi)\n",
    "    tc = color  # np.linalg.norm(traj[-1] - traj[-1,M-1], axis=-1)\n",
    "    points = [\n",
    "        ax.scatter(\n",
    "            traj[0, :, 0],\n",
    "            traj[0, :, 1],\n",
    "            cmap=cmap,\n",
    "            c=tc,\n",
    "            marker=\"o\",\n",
    "            linewidths=1,\n",
    "            s=15**2,\n",
    "            edgecolors=\"#999\",\n",
    "        )\n",
    "    ]\n",
    "    ax.set_facecolor(\"#f5f4e9\")\n",
    "    fig.patch.set_facecolor(\"#f5f4e9\")\n",
    "    title = ax.set_title(title, fontsize=32, color=\"#333333\", fontname=\"monospace\")\n",
    "    ax.axis(\"off\")\n",
    "    xlim = np.min(traj[-1, :, 0]), np.max(traj[-1, :, 0])\n",
    "    ylim = np.min(traj[-1, :, 1]), np.max(traj[-1, :, 1])\n",
    "    dx = xlim[1] - xlim[0]\n",
    "    dy = ylim[1] - ylim[0]\n",
    "    cx, cy = traj[-1, M - 1, :2]\n",
    "    s = 0.75\n",
    "    xlim = [cx - dx * s, cx + dx * s]\n",
    "    ylim = [cy - dy * s, cy + dy * s]\n",
    "    ax.set_xlim(xlim)\n",
    "    ax.set_ylim(ylim)\n",
    "    ax.set_aspect(\"equal\")\n",
    "    # plt.tight_layout()\n",
    "    def make_frame(t):\n",
    "        i = int(t * fps)\n",
    "        i = min(i, T - 1)\n",
    "        points[0].remove()\n",
    "        points[0] = ax.scatter(\n",
    "            traj[i, :, 0],\n",
    "            traj[i, :, 1],\n",
    "            cmap=cmap,\n",
    "            c=tc,\n",
    "            marker=\"o\",\n",
    "            linewidths=0,\n",
    "            s=7**2,\n",
    "            edgecolors=\"#999\",\n",
    "        )\n",
    "        plt.draw()\n",
    "        return mplfig_to_npimage(fig)\n",
    "\n",
    "    return editor.VideoClip(make_frame, duration=duration)\n",
    "\n",
    "\n",
    "def write_video(clips, output, fps=60, transition=0.25):\n",
    "    composite = editor.concatenate(\n",
    "        clips[:1] + [c.crossfadein(transition) for c in clips[1:]],\n",
    "        padding=-transition,\n",
    "        method=\"compose\",\n",
    "    )\n",
    "    # composite.write_videofile(output, fps=fps, preset='slower', ffmpeg_params=['-tune', 'animation', '-crf', '18'])\n",
    "    composite.write_gif(output, fps=60)"
   ]
  },
  {
   "cell_type": "code",
   "execution_count": null,
   "id": "a0b43579",
   "metadata": {
    "scrolled": true
   },
   "outputs": [],
   "source": [
    "c = plot_traj(md.positions, M=256)\n",
    "write_video([c], \"7fold.gif\")"
   ]
  },
  {
   "cell_type": "code",
   "execution_count": null,
   "id": "0f7608c4",
   "metadata": {},
   "outputs": [],
   "source": [
    "md.positions.shape"
   ]
  },
  {
   "cell_type": "code",
   "execution_count": null,
   "id": "3ac9343f",
   "metadata": {},
   "outputs": [],
   "source": []
  }
 ],
 "metadata": {
  "kernelspec": {
   "display_name": "Python 3",
   "language": "python",
   "name": "python3"
  },
  "language_info": {
   "codemirror_mode": {
    "name": "ipython",
    "version": 3
   },
   "file_extension": ".py",
   "mimetype": "text/x-python",
   "name": "python",
   "nbconvert_exporter": "python",
   "pygments_lexer": "ipython3",
   "version": "3.8.5"
  }
 },
 "nbformat": 4,
 "nbformat_minor": 5
}
