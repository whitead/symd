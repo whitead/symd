{
 "cells": [
  {
   "cell_type": "code",
   "execution_count": null,
   "id": "328e7fda",
   "metadata": {
    "scrolled": true
   },
   "outputs": [],
   "source": [
    "!pip install seaborn pandas matplotlib skunk svglib"
   ]
  },
  {
   "cell_type": "code",
   "execution_count": null,
   "id": "b9b0af9a",
   "metadata": {},
   "outputs": [],
   "source": [
    "import symd\n",
    "import matplotlib.pyplot as plt\n",
    "import matplotlib as mpl\n",
    "import numpy as np\n",
    "import pickle\n",
    "import pandas as pd\n",
    "import skunk\n",
    "import svglib\n",
    "import seaborn as sns"
   ]
  },
  {
   "cell_type": "code",
   "execution_count": null,
   "id": "841ee66e",
   "metadata": {},
   "outputs": [],
   "source": [
    "base_colors = [\"f94144\",\"f3722c\",\"f8961e\",\"f9844a\",\"f9c74f\",\"90be6d\",\"43aa8b\",\"4d908e\",\"577590\",\"277da1\"]    \n",
    "colors = ['#' + c for c in base_colors]\n",
    "sns.set_style(\"white\")\n",
    "sns.set_style(\"ticks\")\n",
    "sns.set(rc={'axes.facecolor':'#f5f4e9', \n",
    "            'grid.color' : '#AAAAAA', \n",
    "            'axes.edgecolor':'#333333', \n",
    "            'figure.facecolor':'#FFFFFF', \n",
    "            'axes.grid': False,\n",
    "            'axes.prop_cycle':   plt.cycler('color', plt.cm.Dark2.colors),\n",
    "            'font.family': 'monospace'\n",
    "           })\n",
    "my_cmap = 'Wistia'\n",
    "print(symd.__version__)"
   ]
  },
  {
   "cell_type": "code",
   "execution_count": null,
   "id": "d12bcdc6",
   "metadata": {},
   "outputs": [],
   "source": [
    "print(\"0\\u2264x\\u22641/2;0\\u2264y\\u22641\")"
   ]
  },
  {
   "cell_type": "code",
   "execution_count": null,
   "id": "f37e8d1f",
   "metadata": {},
   "outputs": [],
   "source": [
    "rot = 7\n",
    "genpos = []\n",
    "for ri in range(rot):\n",
    "    c = np.round(np.cos(ri * np.pi * 2 / rot), 4)\n",
    "    s = np.round(np.sin(ri * np.pi * 2 / rot), 4)\n",
    "    if ri == 1:\n",
    "        #asymm = f'0≤x≤{c};0≤y≤{s}'\n",
    "        asymm = f'1/2≤x≤1.0;1/2≤y≤1.0'\n",
    "    genpos.append(f'{c}x {-s:+}y {-0.5 * c + 0.5 * s + 0.5:+},{s}x {c:+}y {-0.5 * s - 0.5 * c + 0.5:+}')\n",
    "specpos = [{\n",
    "            'name': 'a',\n",
    "            'size': 1,\n",
    "            'sites': ['1/2, 1/2']\n",
    "            }]\n",
    "    \n",
    "my_group = {\n",
    "    'lattice': 'Oblique',\n",
    "    'genpos': genpos,\n",
    "    'asymm_unit': asymm,\n",
    "    'specpos': specpos\n",
    "}\n",
    "print(my_group)"
   ]
  },
  {
   "cell_type": "code",
   "execution_count": null,
   "id": "c16d6548",
   "metadata": {},
   "outputs": [],
   "source": [
    "def run_sim(n, number_density, group, images, w=None, retries=5, pos_frames=0, steps=10**6):\n",
    "    for _ in range(retries):\n",
    "        try:\n",
    "            cell = symd.groups.get_cell(number_density, group, 2, n, w)\n",
    "            md = symd.Symd(nparticles=n, cell=cell, ndims=2, images=images, force='lj', wyckoffs=w,\n",
    "              group=group, steps=steps, exeDir='quasi', start_temperature=0.5, temperature=0.1, pressure=0.25)\n",
    "            md.remove_overlap()        \n",
    "            md.runParams['box_update_period'] = 10\n",
    "            md.runParams['langevin_gamma'] = 0.5\n",
    "            md.log_positions(frames=pos_frames//2)\n",
    "            try:\n",
    "                md.run()\n",
    "            except RuntimeError as e:\n",
    "                d = md.number_density()\n",
    "                if d < 0.6:\n",
    "                    print('Not dense enough, retrying', d)\n",
    "                    continue\n",
    "                    \n",
    "            # Basically E-min\n",
    "            md.runParams['start_temperature'] = 0.1\n",
    "            md.runParams['temperature'] = 1e-2\n",
    "            md.runParams['langevin_gamma'] = 0.5\n",
    "            md.runParams['Pressure'] = None\n",
    "            md.runParams['box_update_period'] = 0\n",
    "            md.runParams['steps'] = steps // 4\n",
    "            if pos_frames > 0:\n",
    "                md.log_positions(filename='equil.xyz', frames=pos_frames // 2)\n",
    "            try:\n",
    "                md.run()\n",
    "            except RuntimeError as e:\n",
    "                continue\n",
    "            config = md.positions[-1]\n",
    "            break\n",
    "        except RuntimeError as e:\n",
    "            print(e)\n",
    "            md = None\n",
    "    return md\n"
   ]
  },
  {
   "cell_type": "code",
   "execution_count": null,
   "id": "a3743ed4",
   "metadata": {},
   "outputs": [],
   "source": [
    "md = run_sim(100, 0.1, my_group, [0, 0], pos_frames=1000, w=[1])"
   ]
  },
  {
   "cell_type": "code",
   "execution_count": null,
   "id": "c3ac853c",
   "metadata": {},
   "outputs": [],
   "source": [
    "plt.plot(md.positions[-1,:,0], md.positions[-1,:, 1], 'o')"
   ]
  },
  {
   "cell_type": "code",
   "execution_count": null,
   "id": "4e87225a",
   "metadata": {
    "scrolled": false
   },
   "outputs": [],
   "source": [
    "# make a movie\n",
    "import moviepy.editor as editor\n",
    "from moviepy.video.io.bindings import mplfig_to_npimage\n",
    "\n",
    "\n",
    "def plot_traj(traj, title='@_172135352171_', color='#333333', fps=60, M=0, cmap=my_cmap):\n",
    "    T, N, D = traj.shape    \n",
    "    fps = fps\n",
    "    duration = T / fps\n",
    "    dpi = 90\n",
    "    fig, ax = plt.subplots(figsize=(1200 / dpi, 800 / dpi), dpi=dpi)\n",
    "    tc = np.linalg.norm(traj[-1] - traj[-1,M-1], axis=-1)\n",
    "    print(tc[M-1])\n",
    "    print(tc[0])\n",
    "    points = [ax.scatter(traj[0,:,0], traj[0,:,1], cmap=cmap,\n",
    "                         c=tc, marker='o', linewidths=1, s=15**2, edgecolors='#999')]\n",
    "    ax.set_facecolor('#f5f4e9')\n",
    "    fig.patch.set_facecolor('#f5f4e9')\n",
    "    title = ax.set_title(title, fontsize=32, color='#333333',fontname='monospace')\n",
    "    ax.axis('off')\n",
    "    xlim = np.quantile(traj[-1,:,0], [0.0, 1.0]) + [-1, 1]  \n",
    "    ylim = np.quantile(traj[-1,:,1], [0.0, 1.0]) + [-1,1]\n",
    "    #xlim = (-5,50)\n",
    "    #ylim = (-5,50)\n",
    "    ax.set_aspect('equal')    \n",
    "    ax.set_xlim(*xlim)\n",
    "    ax.set_ylim(*ylim)\n",
    "    #plt.tight_layout()\n",
    "    def make_frame(t):\n",
    "        i = int(t  * fps)\n",
    "        i = min(i, T-1)\n",
    "        points[0].remove()\n",
    "        points[0] = ax.scatter(traj[i,:,0], traj[i,:,1], cmap=cmap,\n",
    "                               c=tc, marker='o',linewidths=1, s=13**2, edgecolors='#999')\n",
    "        plt.draw()\n",
    "        return mplfig_to_npimage(fig)\n",
    "\n",
    "    return editor.VideoClip(make_frame, duration=duration)\n",
    "def write_video(clips, output, fps=60, transition=0.25):\n",
    "    composite = editor.concatenate(clips[:1] + [c.crossfadein(transition) for c in clips[1:]], \n",
    "                                   padding=-transition, method='compose')   \n",
    "    composite.write_videofile(output, fps=fps, preset='slower', ffmpeg_params=['-tune', 'animation'])"
   ]
  },
  {
   "cell_type": "code",
   "execution_count": null,
   "id": "8f3eb4a4",
   "metadata": {
    "scrolled": true
   },
   "outputs": [],
   "source": [
    "c = plot_traj(md.positions, M=100)\n",
    "write_video([c], '7fold.mp4')"
   ]
  },
  {
   "cell_type": "code",
   "execution_count": null,
   "id": "6c255aa5",
   "metadata": {},
   "outputs": [],
   "source": []
  }
 ],
 "metadata": {
  "kernelspec": {
   "display_name": "Python 3 (ipykernel)",
   "language": "python",
   "name": "python3"
  },
  "language_info": {
   "codemirror_mode": {
    "name": "ipython",
    "version": 3
   },
   "file_extension": ".py",
   "mimetype": "text/x-python",
   "name": "python",
   "nbconvert_exporter": "python",
   "pygments_lexer": "ipython3",
   "version": "3.8.12"
  }
 },
 "nbformat": 4,
 "nbformat_minor": 5
}
