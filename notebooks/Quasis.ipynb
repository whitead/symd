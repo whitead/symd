{
 "cells": [
  {
   "cell_type": "code",
   "execution_count": 1,
   "id": "ff87f25d",
   "metadata": {},
   "outputs": [],
   "source": [
    "import symd\n",
    "import matplotlib.pyplot as plt\n",
    "import matplotlib as mpl\n",
    "import numpy as np\n",
    "import pickle\n",
    "import pandas as pd\n",
    "import skunk\n",
    "import svglib\n",
    "import seaborn as sns"
   ]
  },
  {
   "cell_type": "code",
   "execution_count": 2,
   "id": "df092f3b",
   "metadata": {},
   "outputs": [
    {
     "name": "stdout",
     "output_type": "stream",
     "text": [
      "1.0.0\n"
     ]
    }
   ],
   "source": [
    "base_colors = [\n",
    "    \"f94144\",\n",
    "    \"f3722c\",\n",
    "    \"f8961e\",\n",
    "    \"f9844a\",\n",
    "    \"f9c74f\",\n",
    "    \"90be6d\",\n",
    "    \"43aa8b\",\n",
    "    \"4d908e\",\n",
    "    \"577590\",\n",
    "    \"277da1\",\n",
    "]\n",
    "colors = [\"#\" + c for c in base_colors]\n",
    "sns.set_style(\"white\")\n",
    "sns.set_style(\"ticks\")\n",
    "sns.set(\n",
    "    rc={\n",
    "        \"axes.facecolor\": \"#f5f4e9\",\n",
    "        \"grid.color\": \"#AAAAAA\",\n",
    "        \"axes.edgecolor\": \"#333333\",\n",
    "        \"figure.facecolor\": \"#FFFFFF\",\n",
    "        \"axes.grid\": False,\n",
    "        \"axes.prop_cycle\": plt.cycler(\"color\", plt.cm.Dark2.colors),\n",
    "        \"font.family\": \"monospace\",\n",
    "    }\n",
    ")\n",
    "my_cmap = \"rainbow\"\n",
    "print(symd.__version__)"
   ]
  },
  {
   "cell_type": "code",
   "execution_count": 3,
   "id": "4bdbb677",
   "metadata": {},
   "outputs": [],
   "source": [
    "rot = 7\n",
    "genpos = []\n",
    "for ri in range(rot):\n",
    "    c = np.round(np.cos(ri * np.pi * 2 / rot), 4)\n",
    "    s = np.round(np.sin(ri * np.pi * 2 / rot), 4)\n",
    "    if ri == 1:\n",
    "        # asymm = f'0≤x≤{c};0≤y≤{s}'\n",
    "        asymm = f\"1/2≤x≤1.0;1/2≤y≤1.0\"\n",
    "    genpos.append(\n",
    "        f\"{c}x {-s:+}y {-0.5 * c + 0.5 * s + 0.5:+},{s}x {c:+}y {-0.5 * s - 0.5 * c + 0.5:+}\"\n",
    "    )\n",
    "specpos = [symd.Group('Oblique', [\"1/2, 1/2\"], specpos=[])]\n",
    "\n",
    "my_group = {\n",
    "    \"lattice\": \"Oblique\",\n",
    "    \"genpos\": genpos,\n",
    "    \"asymm_unit\": asymm,\n",
    "    \"specpos\": specpos,\n",
    "}\n",
    "\n",
    "my_group = symd.Group('Oblique', genpos, specpos, 'quasi', asymm)"
   ]
  },
  {
   "cell_type": "code",
   "execution_count": 6,
   "id": "fab73842",
   "metadata": {},
   "outputs": [],
   "source": [
    "def run_sim(\n",
    "    n, number_density, group, images, w=None, retries=50, pos_frames=0, steps=10**6\n",
    "):\n",
    "    for i in range(retries):\n",
    "        print('Trying on ', i)\n",
    "        try:\n",
    "            np.random.seed(i)\n",
    "            cell = symd.groups.get_cell(number_density, group, 2, n, w)\n",
    "            md = symd.Symd(\n",
    "                nparticles=n,\n",
    "                cell=cell,\n",
    "                ndims=2,\n",
    "                images=images,\n",
    "                force=\"lj\",\n",
    "                wyckoffs=w,\n",
    "                group=group,\n",
    "                steps=steps,\n",
    "                exeDir=\"quasi\",\n",
    "                start_temperature=0.5,\n",
    "                temperature=0.1,\n",
    "                pressure=0.25,\n",
    "            )\n",
    "            md.remove_overlap()\n",
    "            md.runParams[\"box_update_period\"] = 10\n",
    "            md.runParams[\"langevin_gamma\"] = 0.5\n",
    "            md.log_positions(frames=pos_frames)\n",
    "            try:\n",
    "                md.run()\n",
    "            except RuntimeError as e:\n",
    "                d = md.number_density()\n",
    "                if d < 0.6:\n",
    "                    print(\"Not dense enough, retrying\", d)\n",
    "                    continue\n",
    "\n",
    "            # Basically E-min\n",
    "            md.runParams[\"start_temperature\"] = 0.1\n",
    "            md.runParams[\"temperature\"] = 1e-2\n",
    "            md.runParams[\"langevin_gamma\"] = 0.5\n",
    "            md.runParams[\"Pressure\"] = None\n",
    "            md.runParams[\"box_update_period\"] = 0\n",
    "            md.runParams[\"steps\"] = steps // 10\n",
    "            if pos_frames > 0:\n",
    "                md.log_positions(filename=\"equil.xyz\", frames=pos_frames // 10)\n",
    "            try:\n",
    "                md.run()\n",
    "            except RuntimeError as e:\n",
    "                continue\n",
    "            config = md.positions[-1]\n",
    "            break\n",
    "        except RuntimeError as e:\n",
    "            print(e)\n",
    "            md = None\n",
    "    return md"
   ]
  },
  {
   "cell_type": "code",
   "execution_count": 7,
   "id": "5b330a5f",
   "metadata": {},
   "outputs": [
    {
     "name": "stdout",
     "output_type": "stream",
     "text": [
      "Trying on  0\n"
     ]
    },
    {
     "ename": "KeyboardInterrupt",
     "evalue": "",
     "output_type": "error",
     "traceback": [
      "\u001b[0;31m---------------------------------------------------------------------------\u001b[0m",
      "\u001b[0;31mKeyboardInterrupt\u001b[0m                         Traceback (most recent call last)",
      "Input \u001b[0;32mIn [7]\u001b[0m, in \u001b[0;36m<cell line: 1>\u001b[0;34m()\u001b[0m\n\u001b[0;32m----> 1\u001b[0m md \u001b[38;5;241m=\u001b[39m \u001b[43mrun_sim\u001b[49m\u001b[43m(\u001b[49m\u001b[38;5;241;43m256\u001b[39;49m\u001b[43m,\u001b[49m\u001b[43m \u001b[49m\u001b[38;5;241;43m0.1\u001b[39;49m\u001b[43m,\u001b[49m\u001b[43m \u001b[49m\u001b[43mmy_group\u001b[49m\u001b[43m,\u001b[49m\u001b[43m \u001b[49m\u001b[43m[\u001b[49m\u001b[38;5;241;43m0\u001b[39;49m\u001b[43m,\u001b[49m\u001b[43m \u001b[49m\u001b[38;5;241;43m0\u001b[39;49m\u001b[43m]\u001b[49m\u001b[43m,\u001b[49m\u001b[43m \u001b[49m\u001b[43mpos_frames\u001b[49m\u001b[38;5;241;43m=\u001b[39;49m\u001b[38;5;241;43m1000\u001b[39;49m\u001b[43m,\u001b[49m\u001b[43m \u001b[49m\u001b[43mw\u001b[49m\u001b[38;5;241;43m=\u001b[39;49m\u001b[43m[\u001b[49m\u001b[38;5;241;43m1\u001b[39;49m\u001b[43m]\u001b[49m\u001b[43m)\u001b[49m\n",
      "Input \u001b[0;32mIn [6]\u001b[0m, in \u001b[0;36mrun_sim\u001b[0;34m(n, number_density, group, images, w, retries, pos_frames, steps)\u001b[0m\n\u001b[1;32m     26\u001b[0m md\u001b[38;5;241m.\u001b[39mlog_positions(frames\u001b[38;5;241m=\u001b[39mpos_frames)\n\u001b[1;32m     27\u001b[0m \u001b[38;5;28;01mtry\u001b[39;00m:\n\u001b[0;32m---> 28\u001b[0m     \u001b[43mmd\u001b[49m\u001b[38;5;241;43m.\u001b[39;49m\u001b[43mrun\u001b[49m\u001b[43m(\u001b[49m\u001b[43m)\u001b[49m\n\u001b[1;32m     29\u001b[0m \u001b[38;5;28;01mexcept\u001b[39;00m \u001b[38;5;167;01mRuntimeError\u001b[39;00m \u001b[38;5;28;01mas\u001b[39;00m e:\n\u001b[1;32m     30\u001b[0m     d \u001b[38;5;241m=\u001b[39m md\u001b[38;5;241m.\u001b[39mnumber_density()\n",
      "File \u001b[0;32m/mnt/c/Users/white/repos/simple-MD/python/symd/symd.py:253\u001b[0m, in \u001b[0;36mSymd.run\u001b[0;34m(self)\u001b[0m\n\u001b[1;32m    243\u001b[0m out_arrays \u001b[38;5;241m=\u001b[39m (\u001b[38;5;28mself\u001b[39m\u001b[38;5;241m.\u001b[39mtemperature, \u001b[38;5;28mself\u001b[39m\u001b[38;5;241m.\u001b[39mpe, \u001b[38;5;28mself\u001b[39m\u001b[38;5;241m.\u001b[39mke,\n\u001b[1;32m    244\u001b[0m               \u001b[38;5;28mself\u001b[39m\u001b[38;5;241m.\u001b[39mte, \u001b[38;5;28mself\u001b[39m\u001b[38;5;241m.\u001b[39mhtherm, \u001b[38;5;28mself\u001b[39m\u001b[38;5;241m.\u001b[39mv)\n\u001b[1;32m    246\u001b[0m proc \u001b[38;5;241m=\u001b[39m subprocess\u001b[38;5;241m.\u001b[39mPopen(\n\u001b[1;32m    247\u001b[0m     \u001b[38;5;28mself\u001b[39m\u001b[38;5;241m.\u001b[39mexe,\n\u001b[1;32m    248\u001b[0m     stdin\u001b[38;5;241m=\u001b[39msubprocess\u001b[38;5;241m.\u001b[39mPIPE,\n\u001b[0;32m   (...)\u001b[0m\n\u001b[1;32m    251\u001b[0m     stderr\u001b[38;5;241m=\u001b[39msubprocess\u001b[38;5;241m.\u001b[39mPIPE,\n\u001b[1;32m    252\u001b[0m )\n\u001b[0;32m--> 253\u001b[0m output, outerr \u001b[38;5;241m=\u001b[39m \u001b[43mproc\u001b[49m\u001b[38;5;241;43m.\u001b[39;49m\u001b[43mcommunicate\u001b[49m\u001b[43m(\u001b[49m\u001b[43mjson\u001b[49m\u001b[38;5;241;43m.\u001b[39;49m\u001b[43mdumps\u001b[49m\u001b[43m(\u001b[49m\u001b[38;5;28;43mself\u001b[39;49m\u001b[38;5;241;43m.\u001b[39;49m\u001b[43mrunParams\u001b[49m\u001b[43m)\u001b[49m\u001b[38;5;241;43m.\u001b[39;49m\u001b[43mencode\u001b[49m\u001b[43m(\u001b[49m\u001b[43m)\u001b[49m\u001b[43m)\u001b[49m\n\u001b[1;32m    255\u001b[0m \u001b[38;5;28;01mif\u001b[39;00m \u001b[38;5;28mself\u001b[39m\u001b[38;5;241m.\u001b[39mdo_log_output:\n\u001b[1;32m    256\u001b[0m     \u001b[38;5;28;01mwith\u001b[39;00m \u001b[38;5;28mopen\u001b[39m(\u001b[38;5;28mself\u001b[39m\u001b[38;5;241m.\u001b[39mrunParams[\u001b[38;5;124m\"\u001b[39m\u001b[38;5;124mlog_file\u001b[39m\u001b[38;5;124m\"\u001b[39m], \u001b[38;5;124m\"\u001b[39m\u001b[38;5;124mwb\u001b[39m\u001b[38;5;124m\"\u001b[39m) \u001b[38;5;28;01mas\u001b[39;00m f:\n",
      "File \u001b[0;32m~/miniconda3/envs/symd/lib/python3.8/subprocess.py:1028\u001b[0m, in \u001b[0;36mPopen.communicate\u001b[0;34m(self, input, timeout)\u001b[0m\n\u001b[1;32m   1025\u001b[0m     endtime \u001b[38;5;241m=\u001b[39m \u001b[38;5;28;01mNone\u001b[39;00m\n\u001b[1;32m   1027\u001b[0m \u001b[38;5;28;01mtry\u001b[39;00m:\n\u001b[0;32m-> 1028\u001b[0m     stdout, stderr \u001b[38;5;241m=\u001b[39m \u001b[38;5;28;43mself\u001b[39;49m\u001b[38;5;241;43m.\u001b[39;49m\u001b[43m_communicate\u001b[49m\u001b[43m(\u001b[49m\u001b[38;5;28;43minput\u001b[39;49m\u001b[43m,\u001b[49m\u001b[43m \u001b[49m\u001b[43mendtime\u001b[49m\u001b[43m,\u001b[49m\u001b[43m \u001b[49m\u001b[43mtimeout\u001b[49m\u001b[43m)\u001b[49m\n\u001b[1;32m   1029\u001b[0m \u001b[38;5;28;01mexcept\u001b[39;00m \u001b[38;5;167;01mKeyboardInterrupt\u001b[39;00m:\n\u001b[1;32m   1030\u001b[0m     \u001b[38;5;66;03m# https://bugs.python.org/issue25942\u001b[39;00m\n\u001b[1;32m   1031\u001b[0m     \u001b[38;5;66;03m# See the detailed comment in .wait().\u001b[39;00m\n\u001b[1;32m   1032\u001b[0m     \u001b[38;5;28;01mif\u001b[39;00m timeout \u001b[38;5;129;01mis\u001b[39;00m \u001b[38;5;129;01mnot\u001b[39;00m \u001b[38;5;28;01mNone\u001b[39;00m:\n",
      "File \u001b[0;32m~/miniconda3/envs/symd/lib/python3.8/subprocess.py:1868\u001b[0m, in \u001b[0;36mPopen._communicate\u001b[0;34m(self, input, endtime, orig_timeout)\u001b[0m\n\u001b[1;32m   1861\u001b[0m     \u001b[38;5;28mself\u001b[39m\u001b[38;5;241m.\u001b[39m_check_timeout(endtime, orig_timeout,\n\u001b[1;32m   1862\u001b[0m                         stdout, stderr,\n\u001b[1;32m   1863\u001b[0m                         skip_check_and_raise\u001b[38;5;241m=\u001b[39m\u001b[38;5;28;01mTrue\u001b[39;00m)\n\u001b[1;32m   1864\u001b[0m     \u001b[38;5;28;01mraise\u001b[39;00m \u001b[38;5;167;01mRuntimeError\u001b[39;00m(  \u001b[38;5;66;03m# Impossible :)\u001b[39;00m\n\u001b[1;32m   1865\u001b[0m         \u001b[38;5;124m'\u001b[39m\u001b[38;5;124m_check_timeout(..., skip_check_and_raise=True) \u001b[39m\u001b[38;5;124m'\u001b[39m\n\u001b[1;32m   1866\u001b[0m         \u001b[38;5;124m'\u001b[39m\u001b[38;5;124mfailed to raise TimeoutExpired.\u001b[39m\u001b[38;5;124m'\u001b[39m)\n\u001b[0;32m-> 1868\u001b[0m ready \u001b[38;5;241m=\u001b[39m \u001b[43mselector\u001b[49m\u001b[38;5;241;43m.\u001b[39;49m\u001b[43mselect\u001b[49m\u001b[43m(\u001b[49m\u001b[43mtimeout\u001b[49m\u001b[43m)\u001b[49m\n\u001b[1;32m   1869\u001b[0m \u001b[38;5;28mself\u001b[39m\u001b[38;5;241m.\u001b[39m_check_timeout(endtime, orig_timeout, stdout, stderr)\n\u001b[1;32m   1871\u001b[0m \u001b[38;5;66;03m# XXX Rewrite these to use non-blocking I/O on the file\u001b[39;00m\n\u001b[1;32m   1872\u001b[0m \u001b[38;5;66;03m# objects; they are no longer using C stdio!\u001b[39;00m\n",
      "File \u001b[0;32m~/miniconda3/envs/symd/lib/python3.8/selectors.py:415\u001b[0m, in \u001b[0;36m_PollLikeSelector.select\u001b[0;34m(self, timeout)\u001b[0m\n\u001b[1;32m    413\u001b[0m ready \u001b[38;5;241m=\u001b[39m []\n\u001b[1;32m    414\u001b[0m \u001b[38;5;28;01mtry\u001b[39;00m:\n\u001b[0;32m--> 415\u001b[0m     fd_event_list \u001b[38;5;241m=\u001b[39m \u001b[38;5;28;43mself\u001b[39;49m\u001b[38;5;241;43m.\u001b[39;49m\u001b[43m_selector\u001b[49m\u001b[38;5;241;43m.\u001b[39;49m\u001b[43mpoll\u001b[49m\u001b[43m(\u001b[49m\u001b[43mtimeout\u001b[49m\u001b[43m)\u001b[49m\n\u001b[1;32m    416\u001b[0m \u001b[38;5;28;01mexcept\u001b[39;00m \u001b[38;5;167;01mInterruptedError\u001b[39;00m:\n\u001b[1;32m    417\u001b[0m     \u001b[38;5;28;01mreturn\u001b[39;00m ready\n",
      "\u001b[0;31mKeyboardInterrupt\u001b[0m: "
     ]
    }
   ],
   "source": [
    "md = run_sim(256, 0.1, my_group, [0, 0], pos_frames=1000, w=[1])"
   ]
  },
  {
   "cell_type": "code",
   "execution_count": null,
   "id": "c7d84856",
   "metadata": {},
   "outputs": [],
   "source": [
    "plt.plot(md.positions[-1, :, 0], md.positions[-1, :, 1], \".\")"
   ]
  }
 ],
 "metadata": {
  "kernelspec": {
   "display_name": "Python 3 (ipykernel)",
   "language": "python",
   "name": "python3"
  },
  "language_info": {
   "codemirror_mode": {
    "name": "ipython",
    "version": 3
   },
   "file_extension": ".py",
   "mimetype": "text/x-python",
   "name": "python",
   "nbconvert_exporter": "python",
   "pygments_lexer": "ipython3",
   "version": "3.8.12"
  }
 },
 "nbformat": 4,
 "nbformat_minor": 5
}
