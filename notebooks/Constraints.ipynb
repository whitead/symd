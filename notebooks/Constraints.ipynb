{
 "cells": [
  {
   "cell_type": "markdown",
   "id": "e1183bb5",
   "metadata": {},
   "source": [
    "## Checking Constrained Dynamics"
   ]
  },
  {
   "cell_type": "code",
   "execution_count": 72,
   "id": "70e90aa0",
   "metadata": {},
   "outputs": [],
   "source": [
    "import numpy as np\n",
    "import json\n",
    "import matplotlib.pyplot as plt\n",
    "import seaborn as sns"
   ]
  },
  {
   "cell_type": "code",
   "execution_count": 2,
   "id": "7bc481bb",
   "metadata": {},
   "outputs": [
    {
     "name": "stdout",
     "output_type": "stream",
     "text": [
      "[[0.         0.         0.66666667]\n",
      " [0.         0.         0.33333333]\n",
      " [0.         0.         1.        ]]\n",
      "[[0.01       0.0057735 ]\n",
      " [0.         0.01154701]]\n",
      "[[100.      -50.     ]\n",
      " [  0.       86.60254]]\n",
      "[[ 1.00000000e+00 -3.54762537e-17]\n",
      " [ 0.00000000e+00  1.00000000e+00]]\n"
     ]
    }
   ],
   "source": [
    "with open('wp-15.json') as f:\n",
    "    group = json.load(f)\n",
    "    projector = group['projector']\n",
    "\n",
    "with open('wp-15-01.json') as f:\n",
    "    group = json.load(f)\n",
    "e = np.array(group['members'][0]).reshape(3,3)\n",
    "#e = np.array([0, 0, 0, 0., 0, 0, 0, 0, 1]).reshape(3,3)\n",
    "basis = np.array(projector).reshape(4,4) @ np.array([50,0,0,50])\n",
    "basis = basis.reshape(2,2)\n",
    "#basis = np.eye(2)\n",
    "ib = np.linalg.inv(basis)\n",
    "print(e)\n",
    "print(ib)\n",
    "print(basis)\n",
    "print(ib @ basis)"
   ]
  },
  {
   "cell_type": "code",
   "execution_count": 125,
   "id": "6bddef87",
   "metadata": {},
   "outputs": [
    {
     "name": "stdout",
     "output_type": "stream",
     "text": [
      "[0.5 0.5]\n",
      "[25.      43.30127]\n",
      "[0.5 0.5]\n"
     ]
    }
   ],
   "source": [
    "def scale(x, ib=ib):\n",
    "    s = ib @ x\n",
    "    return np.fmod(s, 1.0)\n",
    "def unscale(x, basis=basis):\n",
    "    return  basis @ x\n",
    "x = np.array([0.5, 0.5])\n",
    "print(x)\n",
    "print(unscale(x))\n",
    "print(scale(unscale(x)))"
   ]
  },
  {
   "cell_type": "code",
   "execution_count": 4,
   "id": "41ccb3c1",
   "metadata": {},
   "outputs": [
    {
     "data": {
      "text/plain": [
       "array([0.66666667, 0.33333333])"
      ]
     },
     "execution_count": 4,
     "metadata": {},
     "output_type": "execute_result"
    }
   ],
   "source": [
    "def pa(x, e=e):\n",
    "    return (e @ (np.concatenate((x, [1])).T))[:2]\n",
    "pa(x)"
   ]
  },
  {
   "cell_type": "code",
   "execution_count": 5,
   "id": "2095c3fe",
   "metadata": {},
   "outputs": [
    {
     "name": "stdout",
     "output_type": "stream",
     "text": [
      "grad [[-0.01       -0.0057735 ]\n",
      " [ 0.         -0.01154701]]\n",
      "[[0. 0.]\n",
      " [0. 0.]]\n",
      "[[0.0001     0.0001244 ]\n",
      " [0.         0.00013333]]\n",
      "[[ 1.00000000e+04 -9.33012700e+03]\n",
      " [-4.69659974e-13  7.49999993e+03]]\n",
      "[[ 1.00000000e+00  2.66448033e-16]\n",
      " [-4.69659974e-17  1.00000000e+00]]\n",
      "[[-1.00000000e+02  5.00000000e+01]\n",
      " [ 4.69659974e-15 -8.66025400e+01]]\n"
     ]
    }
   ],
   "source": [
    "# compute A matrix\n",
    "N = 2\n",
    "A = np.zeros((N, N))\n",
    "ibt = ib\n",
    "grad = e[:-1,:-1] @ ibt - ibt\n",
    "print('grad', grad)\n",
    "print(A)\n",
    "A = grad @ grad\n",
    "print(A)\n",
    "Ainv = np.linalg.pinv(A)\n",
    "print(Ainv)\n",
    "print(Ainv @ A)\n",
    "Ainv = Ainv @ grad\n",
    "print(Ainv)\n"
   ]
  },
  {
   "cell_type": "code",
   "execution_count": 6,
   "id": "b3fc9f70",
   "metadata": {
    "scrolled": false
   },
   "outputs": [
    {
     "name": "stdout",
     "output_type": "stream",
     "text": [
      "delta: [0.28997832 0.32451802] s [0.37668835 0.00881531] x [37.22806916  0.76342818]\n",
      "lambda [-12.77193134 -28.10408487]\n",
      "after delta: [0.00000000e+00 1.66533454e-16] s [0.66666667 0.33333333] x [50.0000005  28.86751304]\n",
      "delta: [-0.28954898 -0.32401475] s [0.95621565 0.65734808] x [62.7541609  56.92801325]\n",
      "A lambda [0.00476619 0.0037414 ]\n",
      "after delta: [-1.11022302e-16 -1.66533454e-16] s [0.66666667 0.33333333] x [50.0000005  28.86751304]\n",
      "[50.0000005  28.86751304]\n",
      "delta: [0.04811252 0.02405626] s [0.61855415 0.30927707] x [46.39156127 26.78417973]\n",
      "lambda [-3.60843923 -2.08333331]\n",
      "after delta: [0.00000000e+00 5.55111512e-17] s [0.66666667 0.33333333] x [50.0000005  28.86751304]\n",
      "delta: [-7.10947085e-06 -5.20449389e-06] s [0.66667378 0.33333853] x [50.00045122 28.86796377]\n",
      "A lambda [1.01142868e-07 6.00963192e-08]\n",
      "after delta: [0. 0.] s [0.66666667 0.33333333] x [50.0000005  28.86751304]\n",
      "[50.0000005  28.86751304]\n",
      "delta: [0.04811252 0.02405626] s [0.61855415 0.30927707] x [46.39156127 26.78417973]\n",
      "lambda [-3.60843923 -2.08333331]\n",
      "after delta: [0. 0.] s [0.66666667 0.33333333] x [50.0000005  28.86751304]\n",
      "delta: [-3.70098593e-06 -2.70930975e-06] s [0.66667037 0.33333604] x [50.00023513 28.86774768]\n",
      "A lambda [5.26520665e-08 3.12844144e-08]\n",
      "after delta: [0. 0.] s [0.66666667 0.33333333] x [50.0000005  28.86751304]\n",
      "[50.0000005  28.86751304]\n",
      "delta: [0.04811252 0.02405626] s [0.61855415 0.30927707] x [46.39156127 26.78417973]\n",
      "lambda [-3.60843923 -2.08333331]\n",
      "after delta: [0. 0.] s [0.66666667 0.33333333] x [50.0000005  28.86751304]\n",
      "delta: [1.42464875e-05 1.04291527e-05] s [0.66665242 0.3333229 ] x [49.99909731 28.86660985]\n",
      "A lambda [-2.02677617e-07 -1.20425483e-07]\n",
      "after delta: [0. 0.] s [0.66666667 0.33333333] x [50.0000005  28.86751304]\n",
      "[50.0000005  28.86751304]\n",
      "delta: [0.04811252 0.02405626] s [0.61855415 0.30927707] x [46.39156127 26.78417973]\n",
      "lambda [-3.60843923 -2.08333331]\n",
      "after delta: [0. 0.] s [0.66666667 0.33333333] x [50.0000005  28.86751304]\n",
      "delta: [-1.87694255e-05 -1.37401731e-05] s [0.66668544 0.33334707] x [50.00119043 28.86870298]\n",
      "A lambda [2.67023182e-07 1.58657854e-07]\n",
      "after delta: [0. 0.] s [0.66666667 0.33333333] x [50.0000005  28.86751304]\n",
      "[50.0000005  28.86751304]\n"
     ]
    }
   ],
   "source": [
    "def step(x, v, f, dt, gamma=0.05, T = 0.2):\n",
    "    # b\n",
    "    #v += f(x) * dt / 2\n",
    "    # a \n",
    "    x += v * dt / 2\n",
    "    # constraint 1\n",
    "    s = scale(x)\n",
    "    delta = pa(s) - s\n",
    "    print('delta:', delta, 's', s, 'x', x)\n",
    "    l = Ainv @ delta.T\n",
    "    print('lambda', l)    \n",
    "    v -= l / dt * 2\n",
    "    x -= l\n",
    "    s = scale(x)\n",
    "    delta = pa(s) - s\n",
    "    print('after delta:', delta, 's', s, 'x', x)\n",
    "    # o\n",
    "    c1 = np.exp(-gamma * dt)\n",
    "    c2 = np.sqrt(1 - c1**2)\n",
    "    v *= c1\n",
    "    v += c2 * np.random.normal() * np.sqrt(T)\n",
    "    # a \n",
    "    x += dt * v / 2    \n",
    "    # constraint 2\n",
    "    s = scale(x)\n",
    "    delta = pa(s) - s\n",
    "    print('delta:', delta, 's', s, 'x', x)\n",
    "    l = Ainv @ delta.T\n",
    "    print('A lambda', A @ l)    \n",
    "    v -= l / dt * 2\n",
    "    x -= l\n",
    "    s = scale(x)\n",
    "    delta = pa(s) - s\n",
    "    print('after delta:', delta, 's', s, 'x', x)\n",
    "    # b\n",
    "    v += f(x) * dt / 2\n",
    "    return x,v\n",
    "x = np.array([0.376419008701368, 0.008526634164955138], dtype=float)\n",
    "x = unscale(x)\n",
    "f = lambda x: -2 * np.sqrt(np.sum(x**2)) * x\n",
    "v = np.array([0.5, 1], dtype=float)\n",
    "N = 5\n",
    "traj = np.empty((N, 2), dtype=float)\n",
    "vtraj = np.empty((N, 2), dtype=float)\n",
    "for i in range(N):\n",
    "    traj[i,:] = x\n",
    "    vtraj[i,:] = v\n",
    "    x,v = step(x, v, f, 0.05)    \n",
    "    print(x)"
   ]
  },
  {
   "cell_type": "code",
   "execution_count": 7,
   "id": "76f20c63",
   "metadata": {},
   "outputs": [
    {
     "data": {
      "text/plain": [
       "(36.576347594983496,\n",
       " 50.63922206690555,\n",
       " -0.6680260670802219,\n",
       " 30.273967288074324)"
      ]
     },
     "execution_count": 7,
     "metadata": {},
     "output_type": "execute_result"
    },
    {
     "data": {
      "image/png": "[encoded data removed]",
      "text/plain": [
       "<Figure size 432x288 with 1 Axes>"
      ]
     },
     "metadata": {
      "needs_background": "light"
     },
     "output_type": "display_data"
    }
   ],
   "source": [
    "plt.plot(traj[:,0], traj[:,1], '.-')\n",
    "# for i in range(N):\n",
    "#     xi = traj[i]\n",
    "#     vi = vtraj[i]\n",
    "#     vi /= np.linalg.norm(vi) / 0.2\n",
    "#     plt.plot([xi[0], xi[0] + vi[0]], [xi[1], xi[1] + vi[1]], '-', color='C1')\n",
    "plt.gca().axis('equal')"
   ]
  },
  {
   "cell_type": "code",
   "execution_count": 8,
   "id": "4271f1ec",
   "metadata": {},
   "outputs": [
    {
     "data": {
      "text/plain": [
       "array([[37.21556916,  0.73842818],\n",
       "       [50.0000005 , 28.86751304],\n",
       "       [50.0000005 , 28.86751304],\n",
       "       [50.0000005 , 28.86751304],\n",
       "       [50.0000005 , 28.86751304]])"
      ]
     },
     "execution_count": 8,
     "metadata": {},
     "output_type": "execute_result"
    }
   ],
   "source": [
    "traj"
   ]
  },
  {
   "cell_type": "markdown",
   "id": "ed9206e6",
   "metadata": {},
   "source": [
    "## Checking Symmetry of Proposal Distribution"
   ]
  },
  {
   "cell_type": "code",
   "execution_count": 51,
   "id": "32225034",
   "metadata": {},
   "outputs": [],
   "source": [
    "sign = lambda x: bool(x > 0) - bool(x < 0)\n",
    "\n",
    "def levi_civta(index):\n",
    "    p = 1\n",
    "    d = len(index)\n",
    "    for i in range(d):\n",
    "        for j in range(i + 1, d):\n",
    "            p *= sign(index[j] - index[i])\n",
    "    return p\n",
    "\n",
    "def rvolume(b, v, i, index):\n",
    "    d = len(index)\n",
    "    if i == d:\n",
    "        return levi_civta(index) * v\n",
    "    vi = 0\n",
    "    for j in range(d):\n",
    "        index[i] = j\n",
    "        vi += rvolume(b, b[j][i] * v, i + 1, index)\n",
    "    return vi\n",
    "\n",
    "def volume(b): \n",
    "    index = [0] * len(b)\n",
    "    return rvolume(b, 1, 0, index)"
   ]
  },
  {
   "cell_type": "code",
   "execution_count": 121,
   "id": "14f650fb",
   "metadata": {},
   "outputs": [],
   "source": [
    "def proj(ub):\n",
    "    fub = ub.flatten()\n",
    "    fb = np.array(projector).reshape(4,4) @ fub\n",
    "    return fb.reshape(2,2)\n",
    "vi = []\n",
    "vj = []\n",
    "for i in range(10000):\n",
    "    ub = np.array([[1,0],[0,1]]) + np.random.normal(size=(2,2)) * 0.1\n",
    "    vi.append(volume(proj(ub)))\n",
    "    ub *= (1 + 0.01 - np.random.uniform(size=4) * 0.02).reshape(2,2)\n",
    "    vj.append(volume(proj(ub)))\n",
    "vi,vj = np.array(vi), np.array(vj)\n"
   ]
  },
  {
   "cell_type": "code",
   "execution_count": 122,
   "id": "937b84f6",
   "metadata": {},
   "outputs": [
    {
     "data": {
      "image/png": "[encoded data removed]",
      "text/plain": [
       "<Figure size 432x288 with 1 Axes>"
      ]
     },
     "metadata": {
      "needs_background": "light"
     },
     "output_type": "display_data"
    }
   ],
   "source": [
    "plt.hist(vj / vi, bins=np.linspace(0.8,1.2,25), alpha=0.7)\n",
    "plt.hist(vi / vj, bins=np.linspace(0.8,1.2,25), alpha=0.7)\n",
    "plt.show()"
   ]
  },
  {
   "cell_type": "code",
   "execution_count": 123,
   "id": "ec4b95e2",
   "metadata": {},
   "outputs": [
    {
     "data": {
      "text/plain": [
       "(0.9999481774367357, 1.0001209241280775)"
      ]
     },
     "execution_count": 123,
     "metadata": {},
     "output_type": "execute_result"
    }
   ],
   "source": [
    "np.mean(vj / vi), np.mean(vi / vj)"
   ]
  },
  {
   "cell_type": "code",
   "execution_count": 124,
   "id": "35c9e7b5",
   "metadata": {},
   "outputs": [
    {
     "data": {
      "text/plain": [
       "[<matplotlib.lines.Line2D at 0x7fcc22740940>]"
      ]
     },
     "execution_count": 124,
     "metadata": {},
     "output_type": "execute_result"
    },
    {
     "data": {
      "image/png": "[encoded data removed]",
      "text/plain": [
       "<Figure size 432x288 with 1 Axes>"
      ]
     },
     "metadata": {
      "needs_background": "light"
     },
     "output_type": "display_data"
    }
   ],
   "source": [
    "plt.plot(vj, vi, '.')\n",
    "plt.plot(vi, vj, '.')"
   ]
  },
  {
   "cell_type": "code",
   "execution_count": null,
   "id": "14f7f18a",
   "metadata": {},
   "outputs": [],
   "source": []
  }
 ],
 "metadata": {
  "kernelspec": {
   "display_name": "Python 3 (ipykernel)",
   "language": "python",
   "name": "python3"
  },
  "language_info": {
   "codemirror_mode": {
    "name": "ipython",
    "version": 3
   },
   "file_extension": ".py",
   "mimetype": "text/x-python",
   "name": "python",
   "nbconvert_exporter": "python",
   "pygments_lexer": "ipython3",
   "version": "3.8.12"
  }
 },
 "nbformat": 4,
 "nbformat_minor": 5
}
