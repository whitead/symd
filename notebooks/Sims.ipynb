{
 "cells": [
  {
   "cell_type": "code",
   "execution_count": null,
   "id": "9acbaac2",
   "metadata": {},
   "outputs": [],
   "source": [
    "import symd\n",
    "import matplotlib.pyplot as plt\n",
    "import numpy as np\n",
    "# make a movie\n",
    "import moviepy.editor as editor\n",
    "from moviepy.video.io.bindings import mplfig_to_npimage\n",
    "\n",
    "\n",
    "def plot(traj, title='@_172135352171_', color='#333333', fps=60):\n",
    "    T, N, D = traj.shape    \n",
    "    fps = fps\n",
    "    duration = T / fps\n",
    "    dpi = 90\n",
    "    fig, ax = plt.subplots(figsize=(1200 / dpi, 800 / dpi), dpi=dpi)\n",
    "    points = ax.plot(traj[0,:,0], traj[0,:,1], color=color, marker='o', markeredgewidth=0.0, linestyle='None', alpha=1.0)[0]\n",
    "    ax.set_facecolor('#f5f4e9')\n",
    "    fig.patch.set_facecolor('#f5f4e9')\n",
    "    title = ax.set_title(title, fontsize=32, color='#333333',fontname='monospace')\n",
    "    ax.set_aspect(1.0/ax.get_data_ratio(), adjustable='box')\n",
    "    ax.axis('off')\n",
    "    xlim = np.quantile(traj[:,:,0], [0.1, 0.90])\n",
    "    ylim = np.quantile(traj[:,:,1], [0.1, 0.90])\n",
    "    ax.set_xlim(*xlim)\n",
    "    ax.set_ylim(*ylim)\n",
    "    #plt.tight_layout()\n",
    "    def make_frame(t):\n",
    "        i = int(t  * fps)\n",
    "        i = min(i, T-1)\n",
    "        points.set_data(traj[i,:,0], traj[i,:,1])    \n",
    "        return mplfig_to_npimage(fig)\n",
    "\n",
    "    return editor.VideoClip(make_frame, duration=duration)\n",
    "def write_video(clips, output, fps=60):\n",
    "    composite = editor.concatenate(clips[:1] + [c.crossfadein(1.0) for c in clips[1:]], padding=-1, method='compose')   \n",
    "    composite.write_videofile(output, fps=fps, preset='slower', ffmpeg_params=['-tune', 'animation'])\n"
   ]
  },
  {
   "cell_type": "code",
   "execution_count": null,
   "id": "2805a04b",
   "metadata": {
    "scrolled": true
   },
   "outputs": [],
   "source": [
    "def run_sim(n, cell, group, w=None):\n",
    "    md = symd.Symd(nparticles=n, cell=cell, ndims=2, force='lj', wyckoffs=w,\n",
    "          group=group, steps=30000, exeDir='soft', start_temperature=0.5)\n",
    "    md.remove_overlap()\n",
    "    md.shrink()\n",
    "    md.log_positions(frames=500)\n",
    "    md.run()    \n",
    "    return md\n",
    "\n",
    "c = []\n",
    "titles = ['p1', 'p2', 'pm', 'pg', 'cm', 'pmm', 'pmg', 'pgg', 'cmm', 'p4', 'p4m', 'p4g', 'p3', 'p3m1', 'p31m', 'p6', 'p6m']\n",
    "base_colors = [\"f94144\",\"f3722c\",\"f8961e\",\"f9844a\",\"f9c74f\",\"90be6d\",\"43aa8b\",\"4d908e\",\"577590\",\"277da1\"]    \n",
    "colors = ['#' + c for c in base_colors]\n",
    "for i,t in enumerate(titles):\n",
    "    md = run_sim(4, [20, 20], i+1)\n",
    "    color = colors[i % len(colors)]\n",
    "    c.append(plot(md.positions, t, color))\n",
    "    wycks = len(symd.groups.load_group(i+1, 2)['specpos'])\n",
    "    for j in range(wycks):\n",
    "        try:\n",
    "            md = run_sim(4+j+1, [20, 20], i+1, w=[1] * (j+1))\n",
    "            c.append(plot(md.positions, f'{t}-w{j}', color))\n",
    "        except RuntimeError as e:\n",
    "            print(e)\n",
    "write_video(c, 'traj.mp4')\n",
    "for ci in c:\n",
    "    ci.close()"
   ]
  },
  {
   "cell_type": "code",
   "execution_count": null,
   "id": "c6170f72",
   "metadata": {
    "scrolled": true
   },
   "outputs": [],
   "source": [
    "cd = 500 / 60\n",
    "md = int(135 / cd) * cd\n",
    "print('Will cut to clips of length', md)\n",
    "main_clip = editor.VideoFileClip(\"traj.mp4\")\n",
    "N = int(main_clip.duration / md) + 1\n",
    "print('Will write', N, 'clips')\n",
    "time = 0\n",
    "i = 0\n",
    "for i in range(N):\n",
    "    clip = main_clip.subclip(i * md, min((i + 1) * md, main_clip.duration))\n",
    "    clip.write_videofile(f'traj-{i}.mp4', fps=60)#, preset='slower', ffmpeg_params=['-tune', 'animation'])\n",
    "    clip.close()\n"
   ]
  }
 ],
 "metadata": {
  "kernelspec": {
   "display_name": "Python 3 (ipykernel)",
   "language": "python",
   "name": "python3"
  },
  "language_info": {
   "codemirror_mode": {
    "name": "ipython",
    "version": 3
   },
   "file_extension": ".py",
   "mimetype": "text/x-python",
   "name": "python",
   "nbconvert_exporter": "python",
   "pygments_lexer": "ipython3",
   "version": "3.8.12"
  }
 },
 "nbformat": 4,
 "nbformat_minor": 5
}
