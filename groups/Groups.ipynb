{
 "cells": [
  {
   "cell_type": "code",
   "execution_count": 1,
   "id": "a15119e2",
   "metadata": {},
   "outputs": [],
   "source": [
    "import numpy as np\n",
    "import json"
   ]
  },
  {
   "cell_type": "code",
   "execution_count": 55,
   "id": "78385ea1",
   "metadata": {},
   "outputs": [],
   "source": [
    "def write_group(f, members, name):\n",
    "    result = {'name': name, 'size': len(members), 'members': []}\n",
    "    for m in members:\n",
    "        i = np.linalg.inv(m)\n",
    "        result['members'].append({'g': list(m.flatten()), 'i': list(i.flatten())})\n",
    "    json.dump(result, f, indent=True)\n",
    "    print('Wrote group with', len(members), 'members')\n",
    "    \n",
    "def cgroup_2d(n):\n",
    "    thetas = np.linspace(0, 2 * np.pi, n + 1)[:-1]\n",
    "    r = []\n",
    "    for t in thetas:\n",
    "        s, c = np.sin(t), np.cos(t)\n",
    "        r.append(np.array([[c, -s], [s, c]]))\n",
    "    return r\n",
    "def sgroup_2d(n):\n",
    "    thetas = np.arange(0, n) / n\n",
    "    r = [np.eye(2)]\n",
    "    for t in thetas:\n",
    "        s, c = np.sin(2 * np.pi * t), np.cos(2 * np.pi * t)\n",
    "        r.append(np.array([[c, s], [s, -c]]))\n",
    "    return r\n",
    "\n",
    "def outer(g1, g2, remove_dups = True):\n",
    "    r = []\n",
    "    for i in g1:\n",
    "        for j in g2:            \n",
    "            add = True\n",
    "            if remove_dups:                \n",
    "                for ri in r:\n",
    "                    if np.allclose(i @ j, ri):\n",
    "                        add = False\n",
    "                        break            \n",
    "            if add:\n",
    "                r.append(i @ j)\n",
    "    return r"
   ]
  },
  {
   "cell_type": "code",
   "execution_count": 65,
   "id": "5b52b630",
   "metadata": {},
   "outputs": [
    {
     "name": "stdout",
     "output_type": "stream",
     "text": [
      "Wrote group with 6 members\n"
     ]
    }
   ],
   "source": [
    "with open('group.json', 'w') as f:\n",
    "    write_group(f, outer(sgroup_2d(1), cgroup_2d(3)), 'CD5')"
   ]
  },
  {
   "cell_type": "code",
   "execution_count": 28,
   "id": "11f2e9d1",
   "metadata": {},
   "outputs": [
    {
     "name": "stdout",
     "output_type": "stream",
     "text": [
      "[array([[ 1., -0.],\n",
      "       [ 0.,  1.]]), array([[ 0.6234898 , -0.78183148],\n",
      "       [ 0.78183148,  0.6234898 ]]), array([[-0.22252093, -0.97492791],\n",
      "       [ 0.97492791, -0.22252093]]), array([[-0.90096887, -0.43388374],\n",
      "       [ 0.43388374, -0.90096887]]), array([[-0.90096887,  0.43388374],\n",
      "       [-0.43388374, -0.90096887]]), array([[-0.22252093,  0.97492791],\n",
      "       [-0.97492791, -0.22252093]]), array([[ 0.6234898 ,  0.78183148],\n",
      "       [-0.78183148,  0.6234898 ]]), array([[ 1.0000000e+00,  2.4492936e-16],\n",
      "       [-2.4492936e-16,  1.0000000e+00]])]\n"
     ]
    }
   ],
   "source": [
    "print(c8)"
   ]
  },
  {
   "cell_type": "code",
   "execution_count": 31,
   "id": "0b5217db",
   "metadata": {},
   "outputs": [
    {
     "data": {
      "text/plain": [
       "array([[1., 0.],\n",
       "       [0., 1.]])"
      ]
     },
     "execution_count": 31,
     "metadata": {},
     "output_type": "execute_result"
    }
   ],
   "source": [
    "c8[0] @ np.linalg.inv(c8[0])"
   ]
  },
  {
   "cell_type": "code",
   "execution_count": 58,
   "id": "1adfaa09",
   "metadata": {},
   "outputs": [
    {
     "name": "stdout",
     "output_type": "stream",
     "text": [
      "1024\n"
     ]
    }
   ],
   "source": [
    "N = 32\n",
    "with open('start_positions.xyz', 'w') as f:\n",
    "    p = np.linspace(0, 100, N)\n",
    "    for i in range(N):\n",
    "        for j in range(N):\n",
    "            f.write(f'{p[i] - 50} {p[j] - 50}\\n')\n",
    "print(N**2)"
   ]
  },
  {
   "cell_type": "code",
   "execution_count": null,
   "id": "8c5a313f",
   "metadata": {},
   "outputs": [],
   "source": []
  }
 ],
 "metadata": {
  "kernelspec": {
   "display_name": "Python 3 (ipykernel)",
   "language": "python",
   "name": "python3"
  },
  "language_info": {
   "codemirror_mode": {
    "name": "ipython",
    "version": 3
   },
   "file_extension": ".py",
   "mimetype": "text/x-python",
   "name": "python",
   "nbconvert_exporter": "python",
   "pygments_lexer": "ipython3",
   "version": "3.8.12"
  }
 },
 "nbformat": 4,
 "nbformat_minor": 5
}
