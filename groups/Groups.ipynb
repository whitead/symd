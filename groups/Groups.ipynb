{
 "cells": [
  {
   "cell_type": "code",
   "execution_count": 2,
   "id": "a15119e2",
   "metadata": {},
   "outputs": [],
   "source": [
    "import numpy as np\n",
    "import json"
   ]
  },
  {
   "cell_type": "code",
   "execution_count": 132,
   "id": "23bfd3c5",
   "metadata": {},
   "outputs": [
    {
     "data": {
      "text/plain": [
       "False"
      ]
     },
     "execution_count": 132,
     "metadata": {},
     "output_type": "execute_result"
    }
   ],
   "source": [
    "bool(np.isclose(np.sum(np.eye(2)), 0))"
   ]
  },
  {
   "cell_type": "code",
   "execution_count": 151,
   "id": "78385ea1",
   "metadata": {},
   "outputs": [],
   "source": [
    "def write_group(f, members, name):\n",
    "    # tiling code needs to be updated for more than 2D\n",
    "    result = {'name': name, 'size': len(members), 'members': []}\n",
    "    \n",
    "    has_identity = False\n",
    "    for m in members:\n",
    "        # skip extra identities\n",
    "        if np.allclose(np.eye(m.shape[0]), m):\n",
    "            if not has_identity:\n",
    "                has_identity = True\n",
    "            else:\n",
    "                continue\n",
    "        if not has_identity:\n",
    "            raise ValueError('Must start with identity')\n",
    "        i = np.linalg.inv(m)        \n",
    "        # tiling meaning inner Ndim x Ndim is diag only and last column is non-zero\n",
    "        diag = np.isclose(np.sum(m[:-1, :-1]**2), np.trace(m[:-1, :-1]**2))\n",
    "        tiling = bool(not np.isclose(np.sum(m[:-1,-1]**2), 0) and diag)\n",
    "        result['members'].append({'g': list(m.flatten()), 'i': list(i.flatten()), 't': tiling})\n",
    "    # sort them - identity first and tiling last    \n",
    "    result['members'].sort(\n",
    "        key = lambda m: int(m['t']))\n",
    "    json.dump(result, f, indent=True)\n",
    "    print('Wrote group with', len(members), 'members')\n",
    "    \n",
    "def cgroup_2d(n):\n",
    "    thetas = np.linspace(0, 2 * np.pi, n + 1)[:-1]\n",
    "    r = []\n",
    "    for t in thetas:\n",
    "        s, c = np.sin(t), np.cos(t)\n",
    "        r.append(np.array([[c, -s, 0], [s, c, 0], [0, 0, 1]]))\n",
    "    return r\n",
    "def sgroup_2d(n):\n",
    "    thetas = np.arange(0, n) / n\n",
    "    r = [np.eye(3)]\n",
    "    for t in thetas:\n",
    "        s, c = np.sin(2 * np.pi * t), np.cos(2 * np.pi * t)\n",
    "        r.append(np.array([[c, s, 0], [s, -c, 0], [0, 0, 1]]))\n",
    "    return r\n",
    "\n",
    "def trans_2d(theta):\n",
    "    v = [np.eye(3) for _ in range(9)]\n",
    "    for i in range(3):\n",
    "        for j in range(3):            \n",
    "            v[i * 3 + j][0, 2] = (i - 1) * np.cos(theta)\n",
    "            v[i * 3 + j][1, 2] = (j - 1) * np.sin(theta)\n",
    "    # put identity at beginning\n",
    "    del v[1 * 3 + 1]\n",
    "    v.insert(0, np.eye(3))\n",
    "    return v\n",
    "\n",
    "def outer(g1, g2, remove_dups = True):\n",
    "    r = []\n",
    "    for i in g1:\n",
    "        for j in g2:            \n",
    "            add = True\n",
    "            if remove_dups:                \n",
    "                for ri in r:\n",
    "                    if np.allclose(i @ j, ri):\n",
    "                        add = False\n",
    "                        break            \n",
    "            if add:\n",
    "                r.append(i @ j)\n",
    "    return r"
   ]
  },
  {
   "cell_type": "code",
   "execution_count": 171,
   "id": "5b52b630",
   "metadata": {},
   "outputs": [
    {
     "name": "stdout",
     "output_type": "stream",
     "text": [
      "Wrote group with 9 members\n"
     ]
    }
   ],
   "source": [
    "with open('group.json', 'w') as f:\n",
    "    #g = outer(cgroup_2d(3), trans_2d(np.radians(45)))\n",
    "    g = trans_2d(np.radians(45))\n",
    "    write_group(f, g, 'my_group')\n"
   ]
  },
  {
   "cell_type": "code",
   "execution_count": 178,
   "id": "1adfaa09",
   "metadata": {},
   "outputs": [
    {
     "name": "stdout",
     "output_type": "stream",
     "text": [
      "4 36 4.0\n"
     ]
    }
   ],
   "source": [
    "Ntot = 64\n",
    "Ns = Ntot // len(g)\n",
    "N = int(np.floor(np.sqrt(Ns)))\n",
    "Ns = N * N\n",
    "Ntot = Ns * len(g)\n",
    "box = 3\n",
    "with open('start_positions.xyz', 'w') as f:\n",
    "    p = np.linspace(0, box, N)\n",
    "    for i in range(N):\n",
    "        for j in range(N):\n",
    "            f.write(f'{p[i] - box / 2} {p[j] - box / 2}\\n')\n",
    "    for i in range(Ntot - N):\n",
    "        f.write('0.0 0.0\\n')\n",
    "print(Ns, Ntot, Ntot / len(g))"
   ]
  },
  {
   "cell_type": "code",
   "execution_count": 17,
   "id": "8c5a313f",
   "metadata": {},
   "outputs": [
    {
     "data": {
      "text/plain": [
       "4095"
      ]
     },
     "execution_count": 17,
     "metadata": {},
     "output_type": "execute_result"
    }
   ],
   "source": [
    "(N ** 2 // 7) * 7"
   ]
  },
  {
   "cell_type": "code",
   "execution_count": 169,
   "id": "8902f6dd",
   "metadata": {},
   "outputs": [
    {
     "data": {
      "text/plain": [
       "27"
      ]
     },
     "execution_count": 169,
     "metadata": {},
     "output_type": "execute_result"
    }
   ],
   "source": [
    "len(g)"
   ]
  },
  {
   "cell_type": "code",
   "execution_count": null,
   "id": "c8449e3a",
   "metadata": {},
   "outputs": [],
   "source": []
  }
 ],
 "metadata": {
  "kernelspec": {
   "display_name": "Python 3 (ipykernel)",
   "language": "python",
   "name": "python3"
  },
  "language_info": {
   "codemirror_mode": {
    "name": "ipython",
    "version": 3
   },
   "file_extension": ".py",
   "mimetype": "text/x-python",
   "name": "python",
   "nbconvert_exporter": "python",
   "pygments_lexer": "ipython3",
   "version": "3.8.12"
  }
 },
 "nbformat": 4,
 "nbformat_minor": 5
}
