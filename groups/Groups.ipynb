{
 "cells": [
  {
   "cell_type": "code",
   "execution_count": 1,
   "id": "0709fe55",
   "metadata": {},
   "outputs": [],
   "source": [
    "import numpy as np\n",
    "import json"
   ]
  },
  {
   "cell_type": "code",
   "execution_count": 21,
   "id": "969df0b4",
   "metadata": {},
   "outputs": [],
   "source": [
    "def write_group(f, members, name):\n",
    "    result = {'name': name, 'size': len(members), 'members': []}\n",
    "    for m in members:\n",
    "        i = np.linalg.inv(m)\n",
    "        result['members'].append({'g': list(m.flatten()), 'i': list(i.flatten())})\n",
    "    json.dump(result, f, indent=True)\n",
    "    \n",
    "def cgroup_2d(n):\n",
    "    thetas = np.linspace(0, 2 * np.pi, n)\n",
    "    r = []\n",
    "    for t in thetas:\n",
    "        s, c = np.sin(t), np.cos(t)\n",
    "        r.append(np.array([[c, -s], [s, c]]))\n",
    "    return r\n",
    "def sgroup_2d(n):\n",
    "    thetas = np.arange(0, n) / n\n",
    "    r = [np.eye(2)]\n",
    "    for t in thetas:\n",
    "        s, c = np.sin(2 * np.pi * t), np.cos(2 * np.pi * t)\n",
    "        r.append(np.array([[c, s], [s, -c]]))\n",
    "    return r\n",
    "\n",
    "def outer(g1, g2, remove_dups = True):\n",
    "    r = []\n",
    "    for i in g1:\n",
    "        for j in g2:            \n",
    "            add = True\n",
    "            if remove_dups:                \n",
    "                for ri in r:\n",
    "                    if np.allclose(i @ j, ri):\n",
    "                        add = False\n",
    "                        break            \n",
    "            if add:\n",
    "                r.append(i @ j)\n",
    "    return r"
   ]
  },
  {
   "cell_type": "code",
   "execution_count": 27,
   "id": "62c20bce",
   "metadata": {},
   "outputs": [],
   "source": [
    "c8 = cgroup_2d(8)\n",
    "s4 = sgroup_2d(4)\n",
    "with open('group.json', 'w') as f:\n",
    "    write_group(f, c8, 'C8')"
   ]
  },
  {
   "cell_type": "code",
   "execution_count": 28,
   "id": "89151681",
   "metadata": {},
   "outputs": [
    {
     "name": "stdout",
     "output_type": "stream",
     "text": [
      "[array([[ 1., -0.],\n",
      "       [ 0.,  1.]]), array([[ 0.6234898 , -0.78183148],\n",
      "       [ 0.78183148,  0.6234898 ]]), array([[-0.22252093, -0.97492791],\n",
      "       [ 0.97492791, -0.22252093]]), array([[-0.90096887, -0.43388374],\n",
      "       [ 0.43388374, -0.90096887]]), array([[-0.90096887,  0.43388374],\n",
      "       [-0.43388374, -0.90096887]]), array([[-0.22252093,  0.97492791],\n",
      "       [-0.97492791, -0.22252093]]), array([[ 0.6234898 ,  0.78183148],\n",
      "       [-0.78183148,  0.6234898 ]]), array([[ 1.0000000e+00,  2.4492936e-16],\n",
      "       [-2.4492936e-16,  1.0000000e+00]])]\n"
     ]
    }
   ],
   "source": [
    "print(c8)"
   ]
  },
  {
   "cell_type": "code",
   "execution_count": null,
   "id": "2f93dc5f",
   "metadata": {},
   "outputs": [],
   "source": []
  }
 ],
 "metadata": {
  "kernelspec": {
   "display_name": "Python 3 (ipykernel)",
   "language": "python",
   "name": "python3"
  },
  "language_info": {
   "codemirror_mode": {
    "name": "ipython",
    "version": 3
   },
   "file_extension": ".py",
   "mimetype": "text/x-python",
   "name": "python",
   "nbconvert_exporter": "python",
   "pygments_lexer": "ipython3",
   "version": "3.8.12"
  }
 },
 "nbformat": 4,
 "nbformat_minor": 5
}
