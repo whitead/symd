{
 "cells": [
  {
   "cell_type": "code",
   "execution_count": 256,
   "id": "a15119e2",
   "metadata": {},
   "outputs": [],
   "source": [
    "import numpy as np\n",
    "import json\n",
    "import itertools\n",
    "import spglib"
   ]
  },
  {
   "cell_type": "code",
   "execution_count": 264,
   "id": "a0482292",
   "metadata": {},
   "outputs": [
    {
     "data": {
      "text/plain": [
       "{'rotations': array([[[ 1,  0,  0],\n",
       "         [ 0,  1,  0],\n",
       "         [ 0,  0,  1]],\n",
       " \n",
       "        [[-1,  0,  0],\n",
       "         [ 0, -1,  0],\n",
       "         [ 0,  0, -1]],\n",
       " \n",
       "        [[-1,  0,  0],\n",
       "         [ 0, -1,  0],\n",
       "         [ 0,  0,  1]],\n",
       " \n",
       "        [[ 1,  0,  0],\n",
       "         [ 0,  1,  0],\n",
       "         [ 0,  0, -1]],\n",
       " \n",
       "        [[ 1,  0,  0],\n",
       "         [ 0, -1,  0],\n",
       "         [ 0,  0, -1]],\n",
       " \n",
       "        [[-1,  0,  0],\n",
       "         [ 0,  1,  0],\n",
       "         [ 0,  0,  1]],\n",
       " \n",
       "        [[-1,  0,  0],\n",
       "         [ 0,  1,  0],\n",
       "         [ 0,  0, -1]],\n",
       " \n",
       "        [[ 1,  0,  0],\n",
       "         [ 0, -1,  0],\n",
       "         [ 0,  0,  1]]], dtype=int32),\n",
       " 'translations': array([[0. , 0. , 0. ],\n",
       "        [0. , 0. , 0. ],\n",
       "        [0. , 0. , 0.5],\n",
       "        [0. , 0. , 0.5],\n",
       "        [0.5, 0. , 0.5],\n",
       "        [0.5, 0. , 0.5],\n",
       "        [0.5, 0. , 0. ],\n",
       "        [0.5, 0. , 0. ]])}"
      ]
     },
     "execution_count": 264,
     "metadata": {},
     "output_type": "execute_result"
    }
   ],
   "source": [
    "spglib.get_symmetry_from_database(270)"
   ]
  },
  {
   "cell_type": "code",
   "execution_count": 250,
   "id": "78385ea1",
   "metadata": {},
   "outputs": [],
   "source": [
    "def write_group(f, members, name):\n",
    "    # tiling code needs to be updated for more than 2D\n",
    "    result = {'name': name, 'size': len(members), 'members': []}\n",
    "    \n",
    "    has_identity = False\n",
    "    for m in members:\n",
    "        # skip extra identities\n",
    "        if np.allclose(np.eye(m.shape[0]), m):\n",
    "            if not has_identity:\n",
    "                has_identity = True\n",
    "            else:\n",
    "                continue\n",
    "        if not has_identity:\n",
    "            raise ValueError('Must start with identity')\n",
    "        i = np.linalg.inv(m)\n",
    "        # tiling meaning inner Ndim x Ndim is diag only and last column is non-zero\n",
    "        # TODO: which one?\n",
    "        diag = np.isclose(np.sum(m[:-1, :-1]**2), np.trace(m[:-1, :-1]**2))\n",
    "        #diag = np.allclose(np.diag(m), np.ones(m.shape[0]))\n",
    "        tiling = bool(not np.isclose(np.sum(m[:-1,-1]**2), 0) and diag)\n",
    "        result['members'].append({'g': list(np.round(m.flatten(), 8)), 'i': list(np.round(i.flatten(), 8)), 't': tiling})\n",
    "    # sort them - identity first and tiling last    \n",
    "    result['members'].sort(\n",
    "        key = lambda m: int(m['t']))\n",
    "    json.dump(result, f, indent=True)\n",
    "    print('Wrote group with', len(members), 'members and', sum([m['t'] for m in result['members']]), 'tilings')\n",
    "    \n",
    "def cgroup_2d(n):\n",
    "    thetas = np.linspace(0, 2 * np.pi, n + 1)[:-1]\n",
    "    r = []\n",
    "    for t in thetas:\n",
    "        print(t)\n",
    "        s, c = np.sin(t), np.cos(t)\n",
    "        r.append(np.array([[c, -s, 0], [s, c, 0], [0, 0, 1]]))\n",
    "    return r\n",
    "def sgroup_2d(n):\n",
    "    thetas = np.arange(0, n) / n\n",
    "    r = [np.eye(3)]\n",
    "    for t in thetas:\n",
    "        s, c = np.sin(2 * np.pi * t), np.cos(2 * np.pi * t)\n",
    "        r.append(np.array([[c, s, 0], [s, -c, 0], [0, 0, 1]]))\n",
    "    return r\n",
    "\n",
    "def trans_2d(theta):\n",
    "    v = [np.eye(3) for _ in range(9)]\n",
    "    a = [np.cos(theta), 3 * np.sin(theta)]\n",
    "    b = [3, 0]\n",
    "    for i in range(3):\n",
    "        for j in range(3):\n",
    "            v[i * 3 + j][0, 2] = (i - 1) * a[0] + (j - 1) * b[0]\n",
    "            v[i * 3 + j][1, 2] = (i - 1) * a[1] + (j - 1) * b[1]\n",
    "    # put identity at beginning\n",
    "    del v[1 * 3 + 1]\n",
    "    v.insert(0, np.eye(3))\n",
    "    return v\n",
    "\n",
    "def in_group(n, r):\n",
    "    for ri in r:\n",
    "        if np.allclose(n, ri):\n",
    "            return True\n",
    "    return False\n",
    "\n",
    "def outer(g1, g2, remove_dups = True):\n",
    "    r = []\n",
    "    for i in g1:\n",
    "        for j in g2:\n",
    "            if not remove_dups or not in_group(i @ j, r):\n",
    "                r.append(i @ j)\n",
    "            if not remove_dups or not in_group(j @ i, r):\n",
    "                r.append(j @ i)\n",
    "    return r\n",
    "\n",
    "def is_group(g, check_closed=True):\n",
    "    r = []\n",
    "    for i in g:\n",
    "        gi = np.linalg.inv(i)\n",
    "        iexist = False\n",
    "        for j in g:\n",
    "            if np.allclose(gi, j):\n",
    "                iexist = True\n",
    "                break\n",
    "        if not iexist:\n",
    "            return False\n",
    "    if not check_closed:\n",
    "        return True\n",
    "    for i in g:\n",
    "        for j in g:\n",
    "            k = i @ j\n",
    "            iexist = False\n",
    "            for l in g:\n",
    "                if np.allclose(l, k):\n",
    "                    iexist = True\n",
    "                    break\n",
    "            if not iexist:\n",
    "                return False\n",
    "    return True"
   ]
  },
  {
   "cell_type": "code",
   "execution_count": 280,
   "id": "67d03855",
   "metadata": {},
   "outputs": [
    {
     "data": {
      "text/plain": [
       "array([[ 0.16666667, -0.16666667,  0.        ],\n",
       "       [ 0.        ,  1.        ,  0.5       ]])"
      ]
     },
     "execution_count": 280,
     "metadata": {},
     "output_type": "execute_result"
    }
   ],
   "source": [
    "def str2mat(s):\n",
    "    rows = []\n",
    "    N = len(s.split(','))\n",
    "    env = {'x': np.array([1,0]), 'y': np.array([0,1])}\n",
    "    fake_env = {'x': 0, 'y': 0}\n",
    "    for si in s.split(','):\n",
    "        r = [0] * N\n",
    "        l = {}\n",
    "        # use fake ones to get translation\n",
    "        exec('f = ' + si.strip(), fake_env, l)\n",
    "        exec('o = ' + si.strip(),env, l)\n",
    "        # remove trans and add\n",
    "        rows.append(np.append(l['o'] - l['f'], l['f']))\n",
    "    return np.vstack(rows)\n",
    "            \n",
    "str2mat('x/6 - y/6, y + 1/2')"
   ]
  },
  {
   "cell_type": "code",
   "execution_count": 251,
   "id": "5b52b630",
   "metadata": {},
   "outputs": [
    {
     "name": "stdout",
     "output_type": "stream",
     "text": [
      "0.0\n",
      "2.0943951023931953\n",
      "4.1887902047863905\n",
      "Wrote group with 43 members and 8 tilings\n"
     ]
    }
   ],
   "source": [
    "with open('group.json', 'w') as f:\n",
    "    #g = trans_2d(np.radians(90))\n",
    "    #g = cgroup_2d(3)\n",
    "    #g = sgroup_2d(2)\n",
    "    #g = outer(sgroup_2d(4), cgroup_2d(3))\n",
    "    g = outer(trans_2d(np.radians(60)), cgroup_2d(3))\n",
    "    #g = trans_2d(np.radians(90)) + cgroup_2d(4)\n",
    "    if not is_group(g, check_closed=False):\n",
    "        print('Group is not closed!')\n",
    "    write_group(f, g, 'C5')\n"
   ]
  },
  {
   "cell_type": "code",
   "execution_count": 253,
   "id": "3c8821cf",
   "metadata": {},
   "outputs": [
    {
     "name": "stdout",
     "output_type": "stream",
     "text": [
      "9 387 9.0\n"
     ]
    }
   ],
   "source": [
    "Ntot = 500\n",
    "Ns = Ntot // len(g)\n",
    "N = int(np.floor(np.sqrt(Ns)))\n",
    "Ns = N * N\n",
    "Ntot = Ns * len(g)\n",
    "box = 100\n",
    "with open('start_positions.xyz', 'w') as f:\n",
    "    p = np.linspace(box * 0.1, box * 0.9, N)\n",
    "    for i in range(N):\n",
    "        for j in range(N):\n",
    "            #x = p[i] - box / 2 + (np.random.uniform() - 0.5) * box * 0.1\n",
    "            #y = p[j] - box / 2 + (np.random.uniform() - 0.5) * box * 0.1\n",
    "            x = np.random.uniform() * box\n",
    "            y = np.random.uniform() * box\n",
    "            f.write(f'{x} {y}\\n')\n",
    "    for i in range(Ntot - N):\n",
    "        f.write('0.0 0.0\\n')\n",
    "print(Ns, Ntot, Ntot / len(g))\n",
    "\n"
   ]
  },
  {
   "cell_type": "code",
   "execution_count": 189,
   "id": "c8449e3a",
   "metadata": {},
   "outputs": [],
   "source": [
    "preamble_s = \\\n",
    "'''\n",
    "#ifndef GEN_GROUPS_H_\n",
    "#define GEN_GROUPS_H_\n",
    "\n",
    "inline void mmult(double* dest, const double* m1, const double* m2, unsigned int n) {\n",
    "    unsigned int i, j, k;\n",
    "    memset(dest, n * n, sizeof(double));\n",
    "    for(i = 0; i < n; i++)\n",
    "        for(j = 0; j < n; j++)\n",
    "            for(k = 0; k < n; k++)\n",
    "                dest[i * n + j] += m1[i * n + k] * m2[k * n + j];\n",
    "    \n",
    "}\n",
    "'''\n",
    "post_s = '#endif // GEN_GROUPS_H_\\n'"
   ]
  },
  {
   "cell_type": "code",
   "execution_count": 194,
   "id": "81280cd3",
   "metadata": {},
   "outputs": [
    {
     "data": {
      "text/plain": [
       "[(-1, -1, -1),\n",
       " (-1, -1, 0),\n",
       " (-1, -1, 1),\n",
       " (-1, 0, -1),\n",
       " (-1, 0, 0),\n",
       " (-1, 0, 1),\n",
       " (-1, 1, -1),\n",
       " (-1, 1, 0),\n",
       " (-1, 1, 1),\n",
       " (0, -1, -1),\n",
       " (0, -1, 0),\n",
       " (0, -1, 1),\n",
       " (0, 0, -1),\n",
       " (0, 0, 0),\n",
       " (0, 0, 1),\n",
       " (0, 1, -1),\n",
       " (0, 1, 0),\n",
       " (0, 1, 1),\n",
       " (1, -1, -1),\n",
       " (1, -1, 0),\n",
       " (1, -1, 1),\n",
       " (1, 0, -1),\n",
       " (1, 0, 0),\n",
       " (1, 0, 1),\n",
       " (1, 1, -1),\n",
       " (1, 1, 0),\n",
       " (1, 1, 1)]"
      ]
     },
     "execution_count": 194,
     "metadata": {},
     "output_type": "execute_result"
    }
   ],
   "source": [
    "n = [-1, 0, 1]\n",
    "list(itertools.product(n, repeat=3))"
   ]
  },
  {
   "cell_type": "code",
   "execution_count": 235,
   "id": "bf0ba741",
   "metadata": {},
   "outputs": [],
   "source": [
    "class Rhombus:\n",
    "    def __init__(self, theta):\n",
    "        self.theta = theta\n",
    "    def ccode(n):\n",
    "        m = np.eye(N + 1)\n",
    "        m[:-1, :-1] = n * lattice  \n",
    "        \n",
    "\n",
    "def lattice_matrix(n, lattice, N):\n",
    "    # each row of lattice should be a vector\n",
    "    m = np.eye(N + 1)\n",
    "    m[:-1, :-1] = n * lattice\n",
    "    return m\n",
    "\n",
    "def lattice_matrix_str(n, lattice, N):\n",
    "    # each row of lattice should be a vector\n",
    "    m = np.eye(N + 1)\n",
    "    m[:-1, :-1] = n * lattice\n",
    "    return m\n",
    "\n",
    "def matrix_struct_init(m):\n",
    "    return '{' + ','.join(m.flatten().astype(str)) + '}'\n",
    "def gen_group(lattice, group):\n",
    "    n = [-1, 0, 1]\n",
    "    N = len(lattice[0])\n",
    "    i = 0\n",
    "    index = 0\n",
    "    valid = []\n",
    "    dgroup = []\n",
    "    # see which ones are non-degenerate\n",
    "    for g in group:\n",
    "        for ns in itertools.product(n, repeat=N):\n",
    "            m = lattice_matrix(ns, lattice, N)\n",
    "            pg = m @ g\n",
    "            if not in_group(pg, dgroup):\n",
    "                dgroup.append(dg)\n",
    "                valid.append(True)\n",
    "            else:\n",
    "                valid.append(False)\n",
    "            pg = g @ m\n",
    "            if not in_group(pg, dgroup):\n",
    "                dgroup.append(dg)\n",
    "                valid.append(True)\n",
    "            else:\n",
    "                valid.append(False)\n",
    "    body = 'double m1[{N**2}], m2[{N**2}];'\n",
    "    for g in group:\n",
    "        for ns in itertools.product(n, repeat=N):\n",
    "            if not valid[i]:\n",
    "                i += 1                \n",
    "                continue\n",
    "            i += 1\n",
    "            body += 'm1 = {\",\".join(g.flatten().astype(str)}'\n",
    "            body += 'm2 = {\",\".join(g.flatten().astype(str)}'\n",
    "            body += f'members[{index}] = '\n",
    "    funct_s = \\\n",
    "f'''\n",
    "g_t* create_group(double* vectors) {{\n",
    "    g_t* members = malloc(sizeof(g_t) * {size});\n",
    "    {body}\n",
    "    return members;\n",
    "}}\n",
    "'''\n",
    "    return funct_s\n"
   ]
  },
  {
   "cell_type": "code",
   "execution_count": 236,
   "id": "e27f8ad7",
   "metadata": {},
   "outputs": [
    {
     "name": "stdout",
     "output_type": "stream",
     "text": [
      "(3, 3)\n"
     ]
    },
    {
     "data": {
      "text/plain": [
       "'{0.0,1.0,0.0,0.0,0.0,0.0,0.0,0.0,1.0}'"
      ]
     },
     "execution_count": 236,
     "metadata": {},
     "output_type": "execute_result"
    }
   ],
   "source": [
    "lattice_matrix_str([0,1], np.array([[0,1], [1,0]]), 2)"
   ]
  },
  {
   "cell_type": "code",
   "execution_count": 232,
   "id": "b6bcbfec",
   "metadata": {},
   "outputs": [
    {
     "data": {
      "text/plain": [
       "array([[0, 1],\n",
       "       [0, 0]])"
      ]
     },
     "execution_count": 232,
     "metadata": {},
     "output_type": "execute_result"
    }
   ],
   "source": [
    "[0,1] *  np.array([[0,1], [1,0]])"
   ]
  },
  {
   "cell_type": "code",
   "execution_count": null,
   "id": "35bb288c",
   "metadata": {},
   "outputs": [],
   "source": []
  }
 ],
 "metadata": {
  "kernelspec": {
   "display_name": "Python 3 (ipykernel)",
   "language": "python",
   "name": "python3"
  },
  "language_info": {
   "codemirror_mode": {
    "name": "ipython",
    "version": 3
   },
   "file_extension": ".py",
   "mimetype": "text/x-python",
   "name": "python",
   "nbconvert_exporter": "python",
   "pygments_lexer": "ipython3",
   "version": "3.8.12"
  }
 },
 "nbformat": 4,
 "nbformat_minor": 5
}
