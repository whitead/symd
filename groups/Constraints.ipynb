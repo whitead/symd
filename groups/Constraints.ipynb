{
 "cells": [
  {
   "cell_type": "code",
   "execution_count": 12,
   "id": "70e90aa0",
   "metadata": {},
   "outputs": [],
   "source": [
    "import numpy as np\n",
    "import json\n",
    "import matplotlib.pyplot as plt"
   ]
  },
  {
   "cell_type": "code",
   "execution_count": 149,
   "id": "7bc481bb",
   "metadata": {},
   "outputs": [
    {
     "name": "stdout",
     "output_type": "stream",
     "text": [
      "[[0. 0. 0.]\n",
      " [0. 1. 0.]\n",
      " [0. 0. 1.]]\n",
      "[[0.02 0.  ]\n",
      " [0.   0.02]]\n",
      "[[50.  0.]\n",
      " [ 0. 50.]]\n",
      "[[1. 0.]\n",
      " [0. 1.]]\n"
     ]
    }
   ],
   "source": [
    "with open('wp-5-00.json') as f:\n",
    "    group = json.load(f)\n",
    "e = np.array(group['members'][0]).reshape(3,3)\n",
    "#e = np.array([0, 0, 0.2, 0.1, 1, 0, 0, 0, 1]).reshape(3,3)\n",
    "basis = np.array(group['projector']).reshape(4,4) @ np.array([50,0,0,50])\n",
    "basis = basis.reshape(2,2)\n",
    "ib = np.linalg.inv(basis)\n",
    "print(e)\n",
    "print(ib)\n",
    "print(basis)\n",
    "print(ib @ basis)"
   ]
  },
  {
   "cell_type": "code",
   "execution_count": 150,
   "id": "15db7fe7",
   "metadata": {},
   "outputs": [
    {
     "name": "stdout",
     "output_type": "stream",
     "text": [
      "[0.5 0.5]\n",
      "[25. 25.]\n",
      "[0.5 0.5]\n"
     ]
    }
   ],
   "source": [
    "def scale(x, ib=ib):\n",
    "    s = x @ ib\n",
    "    return np.fmod(s, 1.0)\n",
    "def unscale(x, basis=basis):\n",
    "    return x @ basis\n",
    "x = np.array([0.5,0.5])\n",
    "print(x)\n",
    "print(unscale(x))\n",
    "print(scale(unscale(x)))"
   ]
  },
  {
   "cell_type": "code",
   "execution_count": 151,
   "id": "e9f4002b",
   "metadata": {},
   "outputs": [
    {
     "data": {
      "text/plain": [
       "array([0. , 0.5])"
      ]
     },
     "execution_count": 151,
     "metadata": {},
     "output_type": "execute_result"
    }
   ],
   "source": [
    "def pa(x, e=e):\n",
    "    return (e @ (np.concatenate((x, [1])).T))[:2]\n",
    "pa(x)"
   ]
  },
  {
   "cell_type": "code",
   "execution_count": 152,
   "id": "2095c3fe",
   "metadata": {},
   "outputs": [
    {
     "name": "stdout",
     "output_type": "stream",
     "text": [
      "0.0 0.02 0.0 0.02\n",
      "0.0 0.02 0.02 0.02\n",
      "0.02 0.02 0.0 0.02\n",
      "0.02 0.02 0.02 0.02\n",
      "[[ 0.0004 -0.    ]\n",
      " [-0.      0.    ]]\n",
      "[[1. 0.]\n",
      " [0. 0.]]\n",
      "[[-50.  -0.]\n",
      " [  0.   0.]]\n"
     ]
    }
   ],
   "source": [
    "# compute A matrix\n",
    "N = 2\n",
    "A = np.zeros((N, N))\n",
    "grad = [0,0,0]\n",
    "for k in range(N):\n",
    "    for l in range(N):\n",
    "        b = 0\n",
    "        c = 0\n",
    "        d = 0\n",
    "        for j in range(N):\n",
    "            a = 0\n",
    "            for i in range(N):\n",
    "                a += ib[j,i]\n",
    "            c += e[k,j] * a\n",
    "            d += e[l,j] * a\n",
    "        a = 0\n",
    "        b = 0\n",
    "        for i in range(N):\n",
    "            a += ib[k,i]\n",
    "            b += ib[l,i]\n",
    "        print(c,a,d,b)\n",
    "        A[k,l] = (c - a) * (d - b)\n",
    "    grad[k] = c - a\n",
    "print(A)\n",
    "Ainv = np.linalg.pinv(A)\n",
    "print(Ainv @ A)\n",
    "for i in range(N):\n",
    "    Ainv[i, :] *= grad[i]\n",
    "print(Ainv)"
   ]
  },
  {
   "cell_type": "code",
   "execution_count": 148,
   "id": "b3fc9f70",
   "metadata": {
    "scrolled": false
   },
   "outputs": [
    {
     "name": "stdout",
     "output_type": "stream",
     "text": [
      "[ 9.89809723 25.54669014]\n",
      "[ 9.89427284 20.11927856]\n",
      "[ 9.89306553 12.46688601]\n",
      "[9.8935772  3.85070893]\n",
      "[ 9.89486456 -4.94381968]\n",
      "[  9.89551018 -13.43662339]\n",
      "[  9.894807   -20.77994942]\n",
      "[  9.89325276 -25.70474641]\n",
      "[  9.89151422 -27.06840285]\n",
      "[  9.89031543 -24.52053334]\n"
     ]
    }
   ],
   "source": [
    "def step(x, v, f, dt, gamma=0.05, T = 0.2):\n",
    "    # b\n",
    "    v += f(x) * dt / 2\n",
    "    # a \n",
    "    x += v * dt / 2\n",
    "    # constraint 1\n",
    "    s = scale(x)\n",
    "    delta = pa(s) - s\n",
    "    l = Ainv @ delta.T\n",
    "    v -= l / dt / 2\n",
    "    x -= l\n",
    "    s = scale(x)\n",
    "    delta = pa(s) - s\n",
    "    # o\n",
    "    c1 = np.exp(-gamma * dt)\n",
    "    c2 = np.sqrt(1 - c1**2)\n",
    "    v *= c1\n",
    "    v += c2 * np.random.normal() * np.sqrt(T)\n",
    "    # a \n",
    "    x += dt * v / 2    \n",
    "    # constraint 2\n",
    "    s = scale(x)\n",
    "    delta = pa(s) - s\n",
    "    l = Ainv @ delta.T\n",
    "    v -= l / dt / 2\n",
    "    x -= l\n",
    "    s = scale(x)\n",
    "    delta = pa(s) - s\n",
    "    # b\n",
    "    v += f(x) * dt / 2\n",
    "    return x,v\n",
    "x = np.array([0.5,0.5], dtype=float)\n",
    "x = unscale(pa(x))\n",
    "f = lambda x: -2 * np.sqrt(np.sum(x**2)) * x\n",
    "v = np.array([0.5, 1], dtype=float)\n",
    "N = 10\n",
    "traj = np.empty((N, 2), dtype=float)\n",
    "vtraj = np.empty((N, 2), dtype=float)\n",
    "for i in range(N):\n",
    "    traj[i,:] = x\n",
    "    vtraj[i,:] = v\n",
    "    x,v = step(x, v, f, 0.05)    \n",
    "    print(x)"
   ]
  },
  {
   "cell_type": "code",
   "execution_count": 146,
   "id": "e1234f40",
   "metadata": {},
   "outputs": [
    {
     "data": {
      "text/plain": [
       "(-0.28619213493057644,\n",
       " 10.410034833542104,\n",
       " 0.08685767782370787,\n",
       " 0.7441833211250056)"
      ]
     },
     "execution_count": 146,
     "metadata": {},
     "output_type": "execute_result"
    },
    {
     "data": {
      "image/png": "[encoded data removed]",
      "text/plain": [
       "<Figure size 432x288 with 1 Axes>"
      ]
     },
     "metadata": {
      "needs_background": "light"
     },
     "output_type": "display_data"
    }
   ],
   "source": [
    "plt.plot(traj[:,0], traj[:,1], '.-')\n",
    "# for i in range(N):\n",
    "#     xi = traj[i]\n",
    "#     vi = vtraj[i]\n",
    "#     vi /= np.linalg.norm(vi) / 0.2\n",
    "#     plt.plot([xi[0], xi[0] + vi[0]], [xi[1], xi[1] + vi[1]], '-', color='C1')\n",
    "plt.gca().axis('equal')"
   ]
  },
  {
   "cell_type": "code",
   "execution_count": null,
   "id": "c21ffec7",
   "metadata": {},
   "outputs": [],
   "source": []
  }
 ],
 "metadata": {
  "kernelspec": {
   "display_name": "Python 3 (ipykernel)",
   "language": "python",
   "name": "python3"
  },
  "language_info": {
   "codemirror_mode": {
    "name": "ipython",
    "version": 3
   },
   "file_extension": ".py",
   "mimetype": "text/x-python",
   "name": "python",
   "nbconvert_exporter": "python",
   "pygments_lexer": "ipython3",
   "version": "3.8.12"
  }
 },
 "nbformat": 4,
 "nbformat_minor": 5
}
