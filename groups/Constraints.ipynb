{
 "cells": [
  {
   "cell_type": "code",
   "execution_count": 1,
   "id": "70e90aa0",
   "metadata": {},
   "outputs": [],
   "source": [
    "import numpy as np\n",
    "import json"
   ]
  },
  {
   "cell_type": "code",
   "execution_count": 2,
   "id": "7bc481bb",
   "metadata": {},
   "outputs": [
    {
     "name": "stdout",
     "output_type": "stream",
     "text": [
      "[[0.02 0.  ]\n",
      " [0.   0.02]]\n",
      "[[50.  0.]\n",
      " [ 0. 50.]]\n",
      "[[1. 0.]\n",
      " [0. 1.]]\n"
     ]
    }
   ],
   "source": [
    "with open('wp-5-00.json') as f:\n",
    "    group = json.load(f)\n",
    "e = np.array(group['members'][0]).reshape(3,3)\n",
    "basis = np.array(group['projector']).reshape(4,4) @ np.array([50,0,0,50])\n",
    "basis = basis.reshape(2,2)\n",
    "ib = np.linalg.inv(basis)\n",
    "print(ib)\n",
    "print(basis)\n",
    "print(ib @ basis)"
   ]
  },
  {
   "cell_type": "code",
   "execution_count": 7,
   "id": "2095c3fe",
   "metadata": {},
   "outputs": [
    {
     "name": "stdout",
     "output_type": "stream",
     "text": [
      "[[1.600e-03 8.000e-04]\n",
      " [9.408e-01 9.604e-01]]\n",
      "[[ 1.22500000e+03 -1.02040816e+00]\n",
      " [-1.20000000e+03  2.04081633e+00]]\n",
      "[[ 1.22500000e+03 -1.02040816e+00]\n",
      " [-1.20000000e+03  2.04081633e+00]]\n"
     ]
    }
   ],
   "source": [
    "# compute A matrix\n",
    "N = 2\n",
    "A = np.zeros((N, N))\n",
    "for k in range(N):\n",
    "    for l in range(N):\n",
    "        b = 0\n",
    "        c = 0\n",
    "        d = 0\n",
    "        for j in range(N):\n",
    "            a = 0\n",
    "            for i in range(N):\n",
    "                a += ib[j,i]\n",
    "            b += a\n",
    "            c += e[k,j] * a\n",
    "            d += e[l,j] * a\n",
    "        c += e[k,j]\n",
    "        d += e[k,j]\n",
    "        A[k,l] = (c - b) * (d - b)\n",
    "print(A)\n",
    "Ainv = np.linalg.inv(A)\n",
    "print(Ainv)\n",
    "Ainv = np.linalg.pinv(A)\n",
    "print(Ainv)"
   ]
  },
  {
   "cell_type": "code",
   "execution_count": null,
   "id": "b3fc9f70",
   "metadata": {},
   "outputs": [],
   "source": []
  }
 ],
 "metadata": {
  "kernelspec": {
   "display_name": "Python 3 (ipykernel)",
   "language": "python",
   "name": "python3"
  },
  "language_info": {
   "codemirror_mode": {
    "name": "ipython",
    "version": 3
   },
   "file_extension": ".py",
   "mimetype": "text/x-python",
   "name": "python",
   "nbconvert_exporter": "python",
   "pygments_lexer": "ipython3",
   "version": "3.8.12"
  }
 },
 "nbformat": 4,
 "nbformat_minor": 5
}
