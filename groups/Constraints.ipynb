{
 "cells": [
  {
   "cell_type": "code",
   "execution_count": 12,
   "id": "70e90aa0",
   "metadata": {},
   "outputs": [],
   "source": [
    "import numpy as np\n",
    "import json\n",
    "import matplotlib.pyplot as plt"
   ]
  },
  {
   "cell_type": "code",
   "execution_count": 367,
   "id": "7bc481bb",
   "metadata": {},
   "outputs": [
    {
     "name": "stdout",
     "output_type": "stream",
     "text": [
      "[[0.         0.         0.66666667]\n",
      " [0.         0.         0.33333333]\n",
      " [0.         0.         1.        ]]\n",
      "[[0.01       0.0057735 ]\n",
      " [0.         0.01154701]]\n",
      "[[100.      -50.     ]\n",
      " [  0.       86.60254]]\n",
      "[[ 1.00000000e+00 -3.54762537e-17]\n",
      " [ 0.00000000e+00  1.00000000e+00]]\n"
     ]
    }
   ],
   "source": [
    "with open('wp-15.json') as f:\n",
    "    group = json.load(f)\n",
    "    projector = group['projector']\n",
    "\n",
    "with open('wp-15-01.json') as f:\n",
    "    group = json.load(f)\n",
    "e = np.array(group['members'][0]).reshape(3,3)\n",
    "#e = np.array([0, 0, 0, 0., 0, 0, 0, 0, 1]).reshape(3,3)\n",
    "basis = np.array(projector).reshape(4,4) @ np.array([50,0,0,50])\n",
    "basis = basis.reshape(2,2)\n",
    "#basis = np.eye(2)\n",
    "ib = np.linalg.inv(basis)\n",
    "print(e)\n",
    "print(ib)\n",
    "print(basis)\n",
    "print(ib @ basis)"
   ]
  },
  {
   "cell_type": "code",
   "execution_count": 368,
   "id": "6bddef87",
   "metadata": {},
   "outputs": [
    {
     "name": "stdout",
     "output_type": "stream",
     "text": [
      "[0.5 0.5]\n",
      "[25.      43.30127]\n",
      "[0.5 0.5]\n"
     ]
    }
   ],
   "source": [
    "def scale(x, ib=ib):\n",
    "    s = x @ ib.T\n",
    "    return np.fmod(s, 1.0)\n",
    "def unscale(x, basis=basis):\n",
    "    return  x @ basis.T\n",
    "x = np.array([0.5, 0.5])\n",
    "print(x)\n",
    "print(unscale(x))\n",
    "print(scale(unscale(x)))"
   ]
  },
  {
   "cell_type": "code",
   "execution_count": 369,
   "id": "41ccb3c1",
   "metadata": {},
   "outputs": [
    {
     "data": {
      "text/plain": [
       "array([0.66666667, 0.33333333])"
      ]
     },
     "execution_count": 369,
     "metadata": {},
     "output_type": "execute_result"
    }
   ],
   "source": [
    "def pa(x, e=e):\n",
    "    return (e @ (np.concatenate((x, [1])).T))[:2]\n",
    "pa(x)"
   ]
  },
  {
   "cell_type": "code",
   "execution_count": 370,
   "id": "2095c3fe",
   "metadata": {},
   "outputs": [
    {
     "name": "stdout",
     "output_type": "stream",
     "text": [
      "grad [[-0.01       -0.0057735 ]\n",
      " [ 0.         -0.01154701]]\n",
      "[[0. 0.]\n",
      " [0. 0.]]\n",
      "[[0.0001     0.0001244 ]\n",
      " [0.         0.00013333]]\n",
      "[[ 1.00000000e+04 -9.33012700e+03]\n",
      " [-4.69659974e-13  7.49999993e+03]]\n",
      "[[ 1.00000000e+00  2.66448033e-16]\n",
      " [-4.69659974e-17  1.00000000e+00]]\n",
      "[[-1.00000000e+02  5.00000000e+01]\n",
      " [ 4.69659974e-15 -8.66025400e+01]]\n"
     ]
    }
   ],
   "source": [
    "# compute A matrix\n",
    "N = 2\n",
    "A = np.zeros((N, N))\n",
    "ibt = ib\n",
    "grad = e[:-1,:-1] @ ibt - ibt\n",
    "print('grad', grad)\n",
    "print(A)\n",
    "A = grad @ grad\n",
    "print(A)\n",
    "Ainv = np.linalg.pinv(A)\n",
    "print(Ainv)\n",
    "print(Ainv @ A)\n",
    "Ainv = Ainv @ grad\n",
    "print(Ainv)\n"
   ]
  },
  {
   "cell_type": "code",
   "execution_count": 371,
   "id": "b3fc9f70",
   "metadata": {
    "scrolled": false
   },
   "outputs": [
    {
     "name": "stdout",
     "output_type": "stream",
     "text": [
      "delta: [0.28997832 0.32451802] s [0.37668835 0.00881531] x [37.22806916  0.76342818]\n",
      "lambda [-12.77193134 -28.10408487]\n",
      "after delta: [0.00000000e+00 1.66533454e-16] s [0.66666667 0.33333333] x [50.0000005  28.86751304]\n",
      "delta: [-0.28953151 -0.32400196] s [0.95619818 0.65733529] x [62.75305355 56.9269059 ]\n",
      "A lambda [0.00476594 0.00374125]\n",
      "after delta: [ 1.11022302e-16 -1.66533454e-16] s [0.66666667 0.33333333] x [50.0000005  28.86751304]\n",
      "[50.0000005  28.86751304]\n",
      "delta: [0.04811252 0.02405626] s [0.61855415 0.30927707] x [46.39156127 26.78417973]\n",
      "lambda [-3.60843923 -2.08333331]\n",
      "after delta: [0. 0.] s [0.66666667 0.33333333] x [50.0000005  28.86751304]\n",
      "delta: [-4.84905932e-06 -3.54975780e-06] s [0.66667152 0.33333688] x [50.00030792 28.86782046]\n",
      "A lambda [6.89851295e-08 4.09890726e-08]\n",
      "after delta: [0. 0.] s [0.66666667 0.33333333] x [50.0000005  28.86751304]\n",
      "[50.0000005  28.86751304]\n",
      "delta: [0.04811252 0.02405626] s [0.61855415 0.30927707] x [46.39156127 26.78417973]\n",
      "lambda [-3.60843923 -2.08333331]\n",
      "after delta: [0. 0.] s [0.66666667 0.33333333] x [50.0000005  28.86751304]\n",
      "delta: [-3.05570817e-06 -2.23693364e-06] s [0.66666973 0.33333557] x [50.00019422 28.86770677]\n",
      "A lambda [4.34720241e-08 2.58298849e-08]\n",
      "after delta: [0. 0.] s [0.66666667 0.33333333] x [50.0000005  28.86751304]\n",
      "[50.0000005  28.86751304]\n",
      "delta: [0.04811252 0.02405626] s [0.61855415 0.30927707] x [46.39156127 26.78417973]\n",
      "lambda [-3.60843923 -2.08333331]\n",
      "after delta: [0. 0.] s [0.66666667 0.33333333] x [50.0000005  28.86751304]\n",
      "delta: [-3.37886478e-05 -2.47350070e-05] s [0.66670046 0.33335807] x [50.00214261 28.86965516]\n",
      "A lambda [4.80694108e-07 2.85615260e-07]\n",
      "after delta: [0. 0.] s [0.66666667 0.33333333] x [50.0000005  28.86751304]\n",
      "[50.0000005  28.86751304]\n",
      "delta: [0.04811252 0.02405626] s [0.61855415 0.30927707] x [46.39156127 26.78417973]\n",
      "lambda [-3.60843923 -2.08333331]\n",
      "after delta: [0. 0.] s [0.66666667 0.33333333] x [50.0000005  28.86751304]\n",
      "delta: [-1.01677987e-05 -7.44334527e-06] s [0.66667684 0.33334077] x [50.00064511 28.86815766]\n",
      "A lambda [1.44652161e-07 8.59483483e-08]\n",
      "after delta: [0. 0.] s [0.66666667 0.33333333] x [50.0000005  28.86751304]\n",
      "[50.0000005  28.86751304]\n"
     ]
    }
   ],
   "source": [
    "def step(x, v, f, dt, gamma=0.05, T = 0.2):\n",
    "    # b\n",
    "    #v += f(x) * dt / 2\n",
    "    # a \n",
    "    x += v * dt / 2\n",
    "    # constraint 1\n",
    "    s = scale(x)\n",
    "    delta = pa(s) - s\n",
    "    print('delta:', delta, 's', s, 'x', x)\n",
    "    l = Ainv @ delta.T\n",
    "    print('lambda', l)    \n",
    "    v -= l / dt * 2\n",
    "    x -= l\n",
    "    s = scale(x)\n",
    "    delta = pa(s) - s\n",
    "    print('after delta:', delta, 's', s, 'x', x)\n",
    "    # o\n",
    "    c1 = np.exp(-gamma * dt)\n",
    "    c2 = np.sqrt(1 - c1**2)\n",
    "    v *= c1\n",
    "    v += c2 * np.random.normal() * np.sqrt(T)\n",
    "    # a \n",
    "    x += dt * v / 2    \n",
    "    # constraint 2\n",
    "    s = scale(x)\n",
    "    delta = pa(s) - s\n",
    "    print('delta:', delta, 's', s, 'x', x)\n",
    "    l = Ainv @ delta.T\n",
    "    print('A lambda', A @ l)    \n",
    "    v -= l / dt * 2\n",
    "    x -= l\n",
    "    s = scale(x)\n",
    "    delta = pa(s) - s\n",
    "    print('after delta:', delta, 's', s, 'x', x)\n",
    "    # b\n",
    "    v += f(x) * dt / 2\n",
    "    return x,v\n",
    "x = np.array([0.376419008701368, 0.008526634164955138], dtype=float)\n",
    "x = unscale(x)\n",
    "f = lambda x: -2 * np.sqrt(np.sum(x**2)) * x\n",
    "v = np.array([0.5, 1], dtype=float)\n",
    "N = 5\n",
    "traj = np.empty((N, 2), dtype=float)\n",
    "vtraj = np.empty((N, 2), dtype=float)\n",
    "for i in range(N):\n",
    "    traj[i,:] = x\n",
    "    vtraj[i,:] = v\n",
    "    x,v = step(x, v, f, 0.05)    \n",
    "    print(x)"
   ]
  },
  {
   "cell_type": "code",
   "execution_count": 349,
   "id": "76f20c63",
   "metadata": {},
   "outputs": [
    {
     "data": {
      "text/plain": [
       "(-2.500000000000015, 52.5, -0.9150634999999998, 19.216333499999994)"
      ]
     },
     "execution_count": 349,
     "metadata": {},
     "output_type": "execute_result"
    },
    {
     "data": {
      "image/png": "[encoded data removed]",
      "text/plain": [
       "<Figure size 432x288 with 1 Axes>"
      ]
     },
     "metadata": {
      "needs_background": "light"
     },
     "output_type": "display_data"
    }
   ],
   "source": [
    "plt.plot(traj[:,0], traj[:,1], '.-')\n",
    "# for i in range(N):\n",
    "#     xi = traj[i]\n",
    "#     vi = vtraj[i]\n",
    "#     vi /= np.linalg.norm(vi) / 0.2\n",
    "#     plt.plot([xi[0], xi[0] + vi[0]], [xi[1], xi[1] + vi[1]], '-', color='C1')\n",
    "plt.gca().axis('equal')"
   ]
  },
  {
   "cell_type": "code",
   "execution_count": 350,
   "id": "4271f1ec",
   "metadata": {},
   "outputs": [
    {
     "data": {
      "text/plain": [
       "array([[ 5.00000000e+01,  1.83012700e+01],\n",
       "       [-1.42108547e-14,  7.10542736e-15],\n",
       "       [-2.16840434e-19,  1.08420217e-19],\n",
       "       [ 4.33680869e-19, -2.16840434e-19],\n",
       "       [-2.71050543e-20,  2.71050543e-20]])"
      ]
     },
     "execution_count": 350,
     "metadata": {},
     "output_type": "execute_result"
    }
   ],
   "source": [
    "traj"
   ]
  },
  {
   "cell_type": "code",
   "execution_count": null,
   "id": "3aa6ff0c",
   "metadata": {},
   "outputs": [],
   "source": []
  }
 ],
 "metadata": {
  "kernelspec": {
   "display_name": "Python 3 (ipykernel)",
   "language": "python",
   "name": "python3"
  },
  "language_info": {
   "codemirror_mode": {
    "name": "ipython",
    "version": 3
   },
   "file_extension": ".py",
   "mimetype": "text/x-python",
   "name": "python",
   "nbconvert_exporter": "python",
   "pygments_lexer": "ipython3",
   "version": "3.8.12"
  }
 },
 "nbformat": 4,
 "nbformat_minor": 5
}
